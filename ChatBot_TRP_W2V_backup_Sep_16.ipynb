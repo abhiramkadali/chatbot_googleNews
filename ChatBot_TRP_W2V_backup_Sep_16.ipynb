{
 "cells": [
  {
   "cell_type": "markdown",
   "metadata": {},
   "source": [
    "# TRP FAQ chatbot using pretrained Google News Word2Vec Model"
   ]
  },
  {
   "cell_type": "markdown",
   "metadata": {},
   "source": [
    "Importing necessary libraries"
   ]
  },
  {
   "cell_type": "code",
   "execution_count": 2,
   "metadata": {},
   "outputs": [],
   "source": [
    "import os \n",
    "import numpy as np\n",
    "import pandas as pd\n",
    "import re, unicodedata\n",
    "import string\n",
    "import pickle\n",
    "from nltk import sent_tokenize, word_tokenize"
   ]
  },
  {
   "cell_type": "code",
   "execution_count": 3,
   "metadata": {},
   "outputs": [],
   "source": [
    "os.chdir('C:/Users/akadali/Desktop/Deep_NLP/MLG_Capstone_ChatBot/ChatBot_GoogleW2V')\n",
    "data = pd.read_csv('trp_faq_dataset.csv', encoding = 'latin1')\n",
    "data = data[['question', 'answer']]"
   ]
  },
  {
   "cell_type": "markdown",
   "metadata": {},
   "source": [
    "Importing stop words, WordNetLemmatizer and punctuations"
   ]
  },
  {
   "cell_type": "code",
   "execution_count": 4,
   "metadata": {},
   "outputs": [
    {
     "name": "stdout",
     "output_type": "stream",
     "text": [
      "!\"#$%&'()*+,-./:;<=>?@[\\]^_`{|}~’'`\n"
     ]
    }
   ],
   "source": [
    "import nltk\n",
    "stops = nltk.corpus.stopwords.words('english')\n",
    "\n",
    "from nltk.stem import WordNetLemmatizer\n",
    "lemmatizer = WordNetLemmatizer()\n",
    "\n",
    "import string\n",
    "puncs = string.punctuation\n",
    "#Adding additional punctuations\n",
    "puncs = puncs + \"’'`\" \n",
    "print(puncs)"
   ]
  },
  {
   "cell_type": "markdown",
   "metadata": {},
   "source": [
    "Data Cleaning\n",
    "-----\n",
    "\n",
    "* This dataset has a lot of contractions, hence all of them need to be removed/replaced within the dataset. The below function replaces the contractions with corresponding word pairs.\n",
    "\n",
    "* Also, there are quite a few abbreviations such as U.S., US, USI to be substituted with their expanded forms\n",
    "\n",
    "* removing additional spaces, if there are any"
   ]
  },
  {
   "cell_type": "code",
   "execution_count": 5,
   "metadata": {},
   "outputs": [],
   "source": [
    "import re\n",
    "def text_clean(text):\n",
    "    text = re.sub(r\"what's\", \"what is \", text)\n",
    "    text = re.sub(r\"\\'s\", \" \", text)\n",
    "    text = re.sub(r\"\\'ve\", \" have \", text)\n",
    "    text = re.sub(r\"n't\", \" not \", text)\n",
    "    text = re.sub(r\"i'm\", \"i am \", text)\n",
    "    text = re.sub(r\"\\'re\", \" are \", text)\n",
    "    text = re.sub(r\"\\'d\", \" would \", text)\n",
    "    text = re.sub(r\"\\'ll\", \" will \", text)\n",
    "    text = re.sub(r\"\\'ll\", \" will \", text)\n",
    "    text = re.sub('[%s]'%re.escape(puncs), ' ', text)\n",
    "    #convert u.s or us  to 'United States'\n",
    "    text = re.sub(r\" U.S. \", \" united states \", text)\n",
    "    text = re.sub(r\" US \", \" united states \", text)\n",
    "    text = re.sub(r\" USI \", \" united states india \", text)\n",
    "    text = re.sub(r\" +\",\" \", text)\n",
    "    return text"
   ]
  },
  {
   "cell_type": "markdown",
   "metadata": {},
   "source": [
    "Data Preprocessing and Cleaning(2)\n",
    "----------------------------\n",
    "* Tokenizing the words\n",
    "* Lemmatization\n",
    "* removing numeric digits and punctuations"
   ]
  },
  {
   "cell_type": "code",
   "execution_count": 6,
   "metadata": {},
   "outputs": [],
   "source": [
    "def text_preprocess(text):\n",
    "    #tokenizing\n",
    "    tokens = word_tokenize(text)\n",
    "    #converting to lower case and lemmatization\n",
    "    tokens = [lemmatizer.lemmatize(word.lower()) for word in tokens]\n",
    "    filtered_tokens = []\n",
    "    #Remove anything but alphabets - numbers, punctuations etc\n",
    "    for token in tokens:\n",
    "        if re.search('[a-zA-Z]', token):\n",
    "            filtered_tokens.append(token)\n",
    "    #return list of lists for embedding vectors\n",
    "    return filtered_tokens"
   ]
  },
  {
   "cell_type": "markdown",
   "metadata": {},
   "source": [
    "Applying 'Cleaning' and 'Preprocessing' methods on the dataset"
   ]
  },
  {
   "cell_type": "code",
   "execution_count": 7,
   "metadata": {},
   "outputs": [],
   "source": [
    "#Clean the questions dataset\n",
    "data['question'] = data['question'].apply(lambda x:text_clean(x))"
   ]
  },
  {
   "cell_type": "code",
   "execution_count": 8,
   "metadata": {},
   "outputs": [],
   "source": [
    "#Preprocess the questions\n",
    "data['question'] = data['question'].apply(lambda x:text_preprocess(x))"
   ]
  },
  {
   "cell_type": "markdown",
   "metadata": {},
   "source": [
    "Pre-trained word and phrase vectors from gensim models\n",
    "-----------------------------------------\n",
    "* Getting GoogleNews-vectors-negative - A Pre-trained word and phrase vectors. 'Questions'in our dataset are converted to vectors by averaging the vectors of individual words in each question.\n",
    "\n",
    "* This can be loaded using 'gensim.models'"
   ]
  },
  {
   "cell_type": "code",
   "execution_count": 9,
   "metadata": {},
   "outputs": [],
   "source": [
    "import gensim.models\n",
    "#Changing the directory to get to the embeddings \n",
    "os.chdir('C:/Users/akadali/Desktop/Deep_NLP/MLG_Capstone_ChatBot/ChatBot_GoogleW2V/Word Embeddings')\n",
    "model = gensim.models.KeyedVectors.load_word2vec_format('GoogleNews-vectors-negative300.bin',binary=True)"
   ]
  },
  {
   "cell_type": "markdown",
   "metadata": {},
   "source": [
    "Below function creates the 300-dimension vectors for each question (for all tokens that are present in the Google New pre-trained Word2Vec models)"
   ]
  },
  {
   "cell_type": "code",
   "execution_count": 10,
   "metadata": {},
   "outputs": [],
   "source": [
    "# Creating a feature vector by averaging embeddings for all words in a sentence\n",
    "def embedding_feats(list_of_tokens):\n",
    "    DIMENSION = 300\n",
    "    zero_vector = np.zeros(DIMENSION)\n",
    "    #feats = []\n",
    "    feat_for_this = zero_vector\n",
    "    count_for_this = 0\n",
    "    for token in list_of_tokens:\n",
    "        if token in model:\n",
    "            feat_for_this += model[token]\n",
    "            count_for_this+= 1\n",
    "    feats = feat_for_this/count_for_this\n",
    "    return feats"
   ]
  },
  {
   "cell_type": "markdown",
   "metadata": {},
   "source": [
    "Creating vectors for all questions in the faq dataset"
   ]
  },
  {
   "cell_type": "code",
   "execution_count": 11,
   "metadata": {},
   "outputs": [],
   "source": [
    "#np.seterr(divide='ignore', invalid='ignore')\n",
    "question_vectors = [embedding_feats(x) for x in data['question']]"
   ]
  },
  {
   "cell_type": "markdown",
   "metadata": {},
   "source": [
    "Estalishing connection to the 'Talent referral payout' database"
   ]
  },
  {
   "cell_type": "code",
   "execution_count": 12,
   "metadata": {},
   "outputs": [],
   "source": [
    "import mysql.connector\n",
    "mydb = mysql.connector.connect(host=\"localhost\", \n",
    "                               user=\"root\", \n",
    "                               passwd=\"root\",\n",
    "                               auth_plugin = 'mysql_native_password',\n",
    "                               database = \"talent_referral_payout\")"
   ]
  },
  {
   "cell_type": "code",
   "execution_count": 13,
   "metadata": {},
   "outputs": [],
   "source": [
    "mycursor = mydb.cursor()"
   ]
  },
  {
   "cell_type": "code",
   "execution_count": 14,
   "metadata": {},
   "outputs": [],
   "source": [
    "#Definition to obtain te referral bonus payout history of a referring professional\n",
    "\n",
    "def search_pay_db(emp_id):\n",
    "    emp_id = str(emp_id)\n",
    "    #print(type(emp_id))\n",
    "    query = \"SELECT referral_name,amount,date_of_origin FROM trp_payment_report_sample WHERE emp_num = \"+ emp_id\n",
    "    mycursor.execute(query)\n",
    "    return mycursor.fetchone()"
   ]
  },
  {
   "cell_type": "code",
   "execution_count": 15,
   "metadata": {},
   "outputs": [],
   "source": [
    "#Definition to obtain the status of referrals submitted by the referring professional\n",
    "\n",
    "def search_status_db(rms_id):\n",
    "    rms_id = str(rms_id)\n",
    "    #print(type(emp_id))\n",
    "    query = \"SELECT candidate_name,requisition_no,current_status,reference_date FROM trp_status WHERE candidate_id = \" + rms_id\n",
    "    mycursor.execute(query)\n",
    "    return mycursor.fetchone()"
   ]
  },
  {
   "cell_type": "markdown",
   "metadata": {},
   "source": [
    "* This block of code would convert the user's question to a 300 dimensional vector and calculates the cosine_similarity against all question vectors in the FAQ dataset. \n",
    "* Obtains the correspoding answer of the best matched question"
   ]
  },
  {
   "cell_type": "code",
   "execution_count": 16,
   "metadata": {},
   "outputs": [],
   "source": [
    "from sklearn.metrics.pairwise import cosine_similarity\n",
    "\n",
    "def get_response(query, t):\n",
    "    query = text_clean(query)\n",
    "    query = text_preprocess(query)\n",
    "    #print(query)\n",
    "    if len(query) == 0:\n",
    "        response = \"Can you please provide more information for me to undersatnd\"\n",
    "    else:\n",
    "        q_vec = [embedding_feats(query)]\n",
    "        sims = cosine_similarity(q_vec, question_vectors)\n",
    "        max_s = sims.max()\n",
    "        if max_s < t:\n",
    "            response = \"Hmm..sorry, I don't quite understand that, can you please rephrase your question\"\n",
    "        else:\n",
    "            max_i = np.argmax(sims)\n",
    "            response = data.answer[max_i]\n",
    "    return response"
   ]
  },
  {
   "cell_type": "code",
   "execution_count": 18,
   "metadata": {},
   "outputs": [],
   "source": [
    "def chat():\n",
    "    print(\"Specify the confidence level\")\n",
    "    level = input(\"Confidence:\")\n",
    "    conf = int(level)/100\n",
    "    print(\"Hi There....I'm Talent Referral Bot and I'm here to help you with referral inquiries\\n[type 'quit' to stop]\")\n",
    "    print(\"***TIP: PLEASE ENTER \\n 1.'referral_status' -> to check your referral status \\n 2.'referral_bonus' -> to check your bonus payout status and \\n 3.'program' -> for program related inquiry\")\n",
    "    while True:\n",
    "        user_input = input(\"You:\")\n",
    "        if user_input.lower() == 'quit':\n",
    "            break\n",
    "        if user_input == '':\n",
    "            print(\"Bot: Can you please provide more information\")\n",
    "        elif user_input.lower() == 'referral_bonus':\n",
    "            print(\"can you please provide your personnel employee number\")\n",
    "            emp_no = input(\"Emp. ID:\")\n",
    "            emp_no = str(emp_no)\n",
    "            ans = search_pay_db(emp_no)\n",
    "            print(\"Bot: Please find your bonus payout details below (in the last 6 months)\")\n",
    "            print(\"Bot:\", ans)\n",
    "        elif user_input.lower() == 'referral_status':\n",
    "            print(\"can you please provide your referral's personal email adress to fetch the status info.\")\n",
    "            email = input(\"Email:\")\n",
    "            email = str(email)\n",
    "            ans = search_status_db(email)\n",
    "            print(\"Bot: Please find the status of your referrals(in the last 6 months)\")\n",
    "            print(\"Bot:\",ans)\n",
    "        elif user_input.lower() == 'program':\n",
    "            print(\"Bot: Please enter your question here\\n (type 'quit' to stop)\")\n",
    "            while True:\n",
    "                user_input = input(\"You:\")\n",
    "                if user_input.lower() == 'quit':\n",
    "                    break\n",
    "                ans = get_response(user_input, conf)\n",
    "                print(\"Bot:\", ans)"
   ]
  },
  {
   "cell_type": "code",
   "execution_count": 19,
   "metadata": {},
   "outputs": [
    {
     "name": "stdout",
     "output_type": "stream",
     "text": [
      "Specify the confidence level\n",
      "Confidence:80\n",
      "Hi There....I'm Talent Referral Bot and I'm here to help you with referral inquiries\n",
      "[type 'quit' to stop]\n",
      "***TIP: PLEASE ENTER \n",
      " 1.'referral_status' -> to check your referral status \n",
      " 2.'referral_bonus' -> to check your bonus payout status and \n",
      " 3.'program' -> for program related inquiry\n",
      "You:referral_status\n",
      "can you please provide your referral's personal email adress to fetch you the status info.\n",
      "Email:24457270\n",
      "Bot: Please find the status of your referrals(in the last 6 months)\n",
      "Bot: ('Azam, Bilal', 'E20BOSASRCMK006-AU', 'Rejected', '7/9/2019')\n",
      "You:quit\n"
     ]
    }
   ],
   "source": [
    "chat()"
   ]
  },
  {
   "cell_type": "markdown",
   "metadata": {},
   "source": [
    "# Creating Chatbot GUI using tkinter "
   ]
  },
  {
   "cell_type": "code",
   "execution_count": 132,
   "metadata": {},
   "outputs": [],
   "source": [
    "#Creating GUI with tkinter\n",
    "import tkinter\n",
    "from tkinter import *"
   ]
  },
  {
   "cell_type": "code",
   "execution_count": 133,
   "metadata": {},
   "outputs": [],
   "source": [
    "#Enabling High DPI in Windows 10\n",
    "try:\n",
    "    from ctypes import windll\n",
    "    windll.shcore.SetProcessDpiAwareness(1)\n",
    "except:\n",
    "    pass"
   ]
  },
  {
   "cell_type": "code",
   "execution_count": 134,
   "metadata": {},
   "outputs": [],
   "source": [
    "def send():\n",
    "    msg = messageWindow.get(\"1.0\",'end-1c')\n",
    "    messageWindow.delete(\"0.0\",END)\n",
    "    if msg != '':\n",
    "        chatWindow.config(state=NORMAL)\n",
    "        chatWindow.insert(END, \"You: \" + msg + '\\n\\n')\n",
    "        chatWindow.config(foreground=\"#C4D600\", font=(\"Calibri\", 10 ))\n",
    "        res = get_response(msg, 0.8)\n",
    "        chatWindow.insert(END, \"Bot: \" + res + '\\n\\n')\n",
    "        chatWindow.config(state=DISABLED)\n",
    "        chatWindow.yview(END)"
   ]
  },
  {
   "cell_type": "code",
   "execution_count": 135,
   "metadata": {},
   "outputs": [
    {
     "data": {
      "text/plain": [
       "''"
      ]
     },
     "execution_count": 135,
     "metadata": {},
     "output_type": "execute_result"
    }
   ],
   "source": [
    "root = Tk()\n",
    "root.title(\"Talent Referral Chat Bot\")\n",
    "root.geometry(\"500x600\")\n",
    "root.resizable(width = FALSE, height = FALSE)"
   ]
  },
  {
   "cell_type": "code",
   "execution_count": 136,
   "metadata": {},
   "outputs": [],
   "source": [
    "main_menu = Menu(root)\n",
    "\n",
    "# Create the submenu \n",
    "file_menu = Menu(root)\n",
    "\n",
    "# Add commands to submenu\n",
    "file_menu.add_command(label=\"New..\")\n",
    "file_menu.add_command(label=\"Save As..\")\n",
    "file_menu.add_command(label=\"Exit\")\n",
    "main_menu.add_cascade(label=\"File\", menu=file_menu)\n",
    "\n",
    "#Add the rest of the menu options to the main menu\n",
    "main_menu.add_command(label=\"Edit\")\n",
    "main_menu.add_command(label=\"Quit\")\n",
    "root.config(menu=main_menu)"
   ]
  },
  {
   "cell_type": "code",
   "execution_count": 137,
   "metadata": {},
   "outputs": [],
   "source": [
    "#Create Chat Window\n",
    "chatWindow = Text(root, bd=1, bg=\"grey30\",  width=\"50\", height=\"8\", font=(\"Calibri\", 12), foreground=\"#C4D600\")\n",
    "chatWindow.place(x=6,y=6, height=425, width=485)"
   ]
  },
  {
   "cell_type": "code",
   "execution_count": 138,
   "metadata": {},
   "outputs": [],
   "source": [
    "#Create Message Window\n",
    "messageWindow = Text(root, bd=0, bg=\"grey30\",width=\"30\", height=\"4\", font=(\"Calibri\", 12), foreground=\"#C4D600\")\n",
    "messageWindow.place(x=6, y=435, height=160, width=366)"
   ]
  },
  {
   "cell_type": "code",
   "execution_count": 139,
   "metadata": {},
   "outputs": [],
   "source": [
    "#Bind scrollbar to Chat window\n",
    "scrollbar = Scrollbar(root, command=chatWindow.yview, cursor=\"star\")\n",
    "scrollbar.place(x=485,y=5, height=425)\n",
    "chatWindow['yscrollcommand'] = scrollbar.set"
   ]
  },
  {
   "cell_type": "code",
   "execution_count": 140,
   "metadata": {},
   "outputs": [
    {
     "data": {
      "text/plain": [
       "'\\nButton2= Button(root, text=\"Referral Status\", width=\"12\", height=5, bd=0, bg=\"#000000\", activebackground=\"#00bfff\",foreground=\\'#ffffff\\',font=(\"Arial\", 12))\\nButton2.place(x=374, y=513, height=40)\\n\\nButton3= Button(root, text=\"Bonus Payout\",width=\"12\", height=5, bd=0, bg=\"#000000\", activebackground=\"#00bfff\",foreground=\\'#ffffff\\',font=(\"Arial\", 12))\\nButton3.place(x=374, y=555, height=40)\\n'"
      ]
     },
     "execution_count": 140,
     "metadata": {},
     "output_type": "execute_result"
    }
   ],
   "source": [
    "#Create Button to send message\n",
    "Button1= Button(root, text=\"Send\",  width=\"12\", height=5, bd=0, bg=\"#86BC25\", activebackground=\"#00bfff\",foreground='#ffffff',font=(\"Arial\", 12), command = send)\n",
    "Button1.place(x=374, y=435, height=76)\n",
    "\n",
    "Button2= Button(root, text=\"Referral Status\", width=\"12\", height=5, bd=0, bg=\"#000000\", activebackground=\"#00bfff\",foreground='#ffffff',font=(\"Arial\", 12))\n",
    "Button2.place(x=374, y=513, height=40)\n",
    "\n",
    "Button3= Button(root, text=\"Bonus Payout\",width=\"12\", height=5, bd=0, bg=\"#000000\", activebackground=\"#00bfff\",foreground='#ffffff',font=(\"Arial\", 12))\n",
    "Button3.place(x=374, y=555, height=40)\n"
   ]
  },
  {
   "cell_type": "code",
   "execution_count": 141,
   "metadata": {},
   "outputs": [
    {
     "data": {
      "text/plain": [
       "'2612225212104send'"
      ]
     },
     "execution_count": 141,
     "metadata": {},
     "output_type": "execute_result"
    }
   ],
   "source": [
    "#Assigning shortcuts and key-bidings to the buttons\n",
    "\n",
    "#root.bind(\"<Return>\",send)\n",
    "#root.bind(\"<KP_Enter>\",send)"
   ]
  },
  {
   "cell_type": "code",
   "execution_count": 142,
   "metadata": {},
   "outputs": [
    {
     "name": "stderr",
     "output_type": "stream",
     "text": [
      "Exception in Tkinter callback\n",
      "Traceback (most recent call last):\n",
      "  File \"C:\\Users\\akadali\\Anaconda\\lib\\tkinter\\__init__.py\", line 1705, in __call__\n",
      "    return self.func(*args)\n",
      "TypeError: send() takes 0 positional arguments but 1 was given\n"
     ]
    }
   ],
   "source": [
    "root.mainloop()"
   ]
  }
 ],
 "metadata": {
  "kernelspec": {
   "display_name": "Python 3",
   "language": "python",
   "name": "python3"
  },
  "language_info": {
   "codemirror_mode": {
    "name": "ipython",
    "version": 3
   },
   "file_extension": ".py",
   "mimetype": "text/x-python",
   "name": "python",
   "nbconvert_exporter": "python",
   "pygments_lexer": "ipython3",
   "version": "3.7.4"
  }
 },
 "nbformat": 4,
 "nbformat_minor": 2
}
