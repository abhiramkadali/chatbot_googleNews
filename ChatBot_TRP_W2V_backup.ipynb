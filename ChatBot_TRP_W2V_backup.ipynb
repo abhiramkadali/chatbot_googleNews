{
 "cells": [
  {
   "cell_type": "markdown",
   "metadata": {},
   "source": [
    "# TRP FAQ chatbot using pretrained Google News Word2Vec Model"
   ]
  },
  {
   "cell_type": "markdown",
   "metadata": {},
   "source": [
    "Importing necessary libraries"
   ]
  },
  {
   "cell_type": "code",
   "execution_count": 1,
   "metadata": {},
   "outputs": [],
   "source": [
    "import os \n",
    "import numpy as np\n",
    "import pandas as pd\n",
    "import re, unicodedata\n",
    "import string\n",
    "import pickle\n",
    "from nltk import sent_tokenize, word_tokenize"
   ]
  },
  {
   "cell_type": "code",
   "execution_count": 2,
   "metadata": {},
   "outputs": [],
   "source": [
    "os.chdir('C:/Users/akadali/Desktop/Deep_NLP/MLG_Capstone_ChatBot/ChatBot_GoogleW2V')\n",
    "data = pd.read_csv('trp_faq_dataset.csv', encoding = 'latin1')\n",
    "data = data[['question', 'answer']]"
   ]
  },
  {
   "cell_type": "markdown",
   "metadata": {},
   "source": [
    "Importing stop words, WordNetLemmatizer and punctuations"
   ]
  },
  {
   "cell_type": "code",
   "execution_count": 3,
   "metadata": {},
   "outputs": [
    {
     "name": "stdout",
     "output_type": "stream",
     "text": [
      "!\"#$%&'()*+,-./:;<=>?@[\\]^_`{|}~’'`\n"
     ]
    }
   ],
   "source": [
    "import nltk\n",
    "stops = nltk.corpus.stopwords.words('english')\n",
    "\n",
    "from nltk.stem import WordNetLemmatizer\n",
    "lemmatizer = WordNetLemmatizer()\n",
    "\n",
    "import string\n",
    "puncs = string.punctuation\n",
    "#Adding additional punctuations\n",
    "puncs = puncs + \"’'`\" \n",
    "print(puncs)"
   ]
  },
  {
   "cell_type": "markdown",
   "metadata": {},
   "source": [
    "Data Cleaning\n",
    "-----\n",
    "\n",
    "* This dataset has a lot of contractions, hence all of them need to be removed/replaced within the dataset. The below function replaces the contractions with corresponding word pairs.\n",
    "\n",
    "* Also, there are quite a few abbreviations such as U.S., US, USI to be substituted with their expanded forms\n",
    "\n",
    "* removing additional spaces, if there are any"
   ]
  },
  {
   "cell_type": "code",
   "execution_count": 4,
   "metadata": {},
   "outputs": [],
   "source": [
    "import re\n",
    "def text_clean(text):\n",
    "    text = re.sub(r\"what's\", \"what is \", text)\n",
    "    text = re.sub(r\"\\'s\", \" \", text)\n",
    "    text = re.sub(r\"\\'ve\", \" have \", text)\n",
    "    text = re.sub(r\"n't\", \" not \", text)\n",
    "    text = re.sub(r\"i'm\", \"i am \", text)\n",
    "    text = re.sub(r\"\\'re\", \" are \", text)\n",
    "    text = re.sub(r\"\\'d\", \" would \", text)\n",
    "    text = re.sub(r\"\\'ll\", \" will \", text)\n",
    "    text = re.sub(r\"\\'ll\", \" will \", text)\n",
    "    text = re.sub('[%s]'%re.escape(puncs), ' ', text)\n",
    "    #convert u.s or us  to 'United States'\n",
    "    text = re.sub(r\" U.S. \", \" united states \", text)\n",
    "    text = re.sub(r\" US \", \" united states \", text)\n",
    "    text = re.sub(r\" USI \", \" united states india \", text)\n",
    "    text = re.sub(r\" +\",\" \", text)\n",
    "    return text"
   ]
  },
  {
   "cell_type": "markdown",
   "metadata": {},
   "source": [
    "Data Preprocessing and Cleaning(2)\n",
    "----------------------------\n",
    "* Tokenizing the words\n",
    "* Lemmatization\n",
    "* removing numeric digits and punctuations"
   ]
  },
  {
   "cell_type": "code",
   "execution_count": 5,
   "metadata": {},
   "outputs": [],
   "source": [
    "def text_preprocess(text):\n",
    "    #tokenizing\n",
    "    tokens = word_tokenize(text)\n",
    "    #converting to lower case and lemmatization\n",
    "    tokens = [lemmatizer.lemmatize(word.lower()) for word in tokens]\n",
    "    filtered_tokens = []\n",
    "    #Remove anything but alphabets - numbers, punctuations etc\n",
    "    for token in tokens:\n",
    "        if re.search('[a-zA-Z]', token):\n",
    "            filtered_tokens.append(token)\n",
    "    #return list of lists for embedding vectors\n",
    "    return filtered_tokens"
   ]
  },
  {
   "cell_type": "markdown",
   "metadata": {},
   "source": [
    "Applying 'Cleaning' and 'Preprocessing' methods on the dataset"
   ]
  },
  {
   "cell_type": "code",
   "execution_count": 6,
   "metadata": {},
   "outputs": [],
   "source": [
    "#Clean the questions dataset\n",
    "data['question'] = data['question'].apply(lambda x:text_clean(x))"
   ]
  },
  {
   "cell_type": "code",
   "execution_count": 7,
   "metadata": {},
   "outputs": [],
   "source": [
    "#Preprocess the questions\n",
    "data['question'] = data['question'].apply(lambda x:text_preprocess(x))"
   ]
  },
  {
   "cell_type": "markdown",
   "metadata": {},
   "source": [
    "Pre-trained word and phrase vectors from gensim models\n",
    "-----------------------------------------\n",
    "* Getting GoogleNews-vectors-negative - A Pre-trained word and phrase vectors. 'Questions'in our dataset are converted to vectors by averaging the vectors of individual words in each question.\n",
    "\n",
    "* This can be loaded using 'gensim.models'"
   ]
  },
  {
   "cell_type": "code",
   "execution_count": 8,
   "metadata": {},
   "outputs": [],
   "source": [
    "import gensim.models\n",
    "#Changing the directory to get to the embeddings \n",
    "os.chdir('C:/Users/akadali/Desktop/Deep_NLP/MLG_Capstone_ChatBot/ChatBot_GoogleW2V/Word Embeddings')\n",
    "model = gensim.models.KeyedVectors.load_word2vec_format('GoogleNews-vectors-negative300.bin',binary=True)"
   ]
  },
  {
   "cell_type": "markdown",
   "metadata": {},
   "source": [
    "Below function creates the 300-dimension vectors for each question (for all tokens that are present in the Google New pre-trained Word2Vec models)"
   ]
  },
  {
   "cell_type": "code",
   "execution_count": 9,
   "metadata": {},
   "outputs": [],
   "source": [
    "# Creating a feature vector by averaging embeddings for all words in a sentence\n",
    "def embedding_feats(list_of_tokens):\n",
    "    DIMENSION = 300\n",
    "    zero_vector = np.zeros(DIMENSION)\n",
    "    #feats = []\n",
    "    feat_for_this = zero_vector\n",
    "    count_for_this = 0\n",
    "    for token in list_of_tokens:\n",
    "        if token in model:\n",
    "            feat_for_this += model[token]\n",
    "            count_for_this+= 1\n",
    "    feats = feat_for_this/count_for_this\n",
    "    return feats"
   ]
  },
  {
   "cell_type": "markdown",
   "metadata": {},
   "source": [
    "Creating vectors for all questions in the faq dataset"
   ]
  },
  {
   "cell_type": "code",
   "execution_count": 10,
   "metadata": {},
   "outputs": [],
   "source": [
    "#np.seterr(divide='ignore', invalid='ignore')\n",
    "question_vectors = [embedding_feats(x) for x in data['question']]"
   ]
  },
  {
   "cell_type": "markdown",
   "metadata": {},
   "source": [
    "# Estalishing connection to the 'Talent referral payout' database in SQL\n",
    "* Establish connection with the TRP databases (both payout and referral databases) in SQL Workbench\n",
    "* Write functions to retrieve the data based on user request."
   ]
  },
  {
   "cell_type": "code",
   "execution_count": 11,
   "metadata": {},
   "outputs": [],
   "source": [
    "import mysql.connector\n",
    "mydb = mysql.connector.connect(host=\"localhost\", \n",
    "                               user=\"root\", \n",
    "                               passwd=\"root\",\n",
    "                               auth_plugin = 'mysql_native_password',\n",
    "                               database = \"talent_referral_payout\")"
   ]
  },
  {
   "cell_type": "code",
   "execution_count": 12,
   "metadata": {},
   "outputs": [],
   "source": [
    "mycursor = mydb.cursor(buffered = True)"
   ]
  },
  {
   "cell_type": "code",
   "execution_count": 13,
   "metadata": {},
   "outputs": [],
   "source": [
    "#Definition to obtain te referral bonus payout history of a referring professional\n",
    "\n",
    "def search_pay_db(emp_id):\n",
    "    emp_id = str(emp_id)\n",
    "    #print(type(emp_id))\n",
    "    query = \"SELECT referral_name,amount,date_of_origin FROM trp_payment_report_sample WHERE emp_num = \"+ emp_id\n",
    "    mycursor.execute(query)\n",
    "    return mycursor.fetchone()"
   ]
  },
  {
   "cell_type": "code",
   "execution_count": 14,
   "metadata": {},
   "outputs": [],
   "source": [
    "#Definition to obtain the status of referrals submitted by the referring professional\n",
    "\n",
    "def search_status_db(rms_id):\n",
    "    rms_id = str(rms_id)\n",
    "    #print(type(emp_id))\n",
    "    query = \"SELECT candidate_name,requisition_no,current_status,reference_date FROM trp_status WHERE candidate_id = \" + rms_id\n",
    "    mycursor.execute(query)\n",
    "    return mycursor.fetchone()"
   ]
  },
  {
   "cell_type": "markdown",
   "metadata": {},
   "source": [
    "* This block of code would convert the user's question to a 300 dimensional vector and calculates the cosine_similarity against all question vectors in the FAQ dataset. \n",
    "* Obtains the correspoding answer of the best matched question"
   ]
  },
  {
   "cell_type": "code",
   "execution_count": 15,
   "metadata": {},
   "outputs": [],
   "source": [
    "from sklearn.metrics.pairwise import cosine_similarity\n",
    "\n",
    "def get_response(t):\n",
    "    #print(query)\n",
    "    while True:\n",
    "        user_input = input(\"You:\")\n",
    "        if len(user_input) == 0:\n",
    "            print(\"Bot: Can you please provide more information\")\n",
    "        elif user_input.lower() == 'referral_bonus':\n",
    "            print(\"Enter your personnel number to fetch the payment details\")\n",
    "            emp_no = input(\"Emp. ID:\")\n",
    "            emp_no = str(emp_no)\n",
    "            ans = search_pay_db(emp_no)\n",
    "            print(\"Bot: Your bonus payout details are below (in the last 6 months)\")\n",
    "            print(\"Bot:\", ans)\n",
    "            print(\"Bot: Let me know if I can help you with anything else\")\n",
    "        elif user_input.lower() == 'referral_status':\n",
    "            print(\"Bot: Enter your referral's RMS/Taleo ID to fetch the status info.\")\n",
    "            email = input(\"ID:\")\n",
    "            email = str(email)\n",
    "            ans = search_status_db(email)\n",
    "            print(\"Bot: Below are the list of referrals you submitted in the last 6 months\")\n",
    "            print(\"Bot:\", ans)\n",
    "            print(\"Bot: Let me know if I can help you with anything else\")\n",
    "        elif user_input.lower() == 'quit':\n",
    "            break\n",
    "        else:\n",
    "            q = text_clean(user_input)\n",
    "            q = text_preprocess(user_input)\n",
    "            q_vec = [embedding_feats(q)]\n",
    "            sims = cosine_similarity(q_vec, question_vectors)\n",
    "            max_s = sims.max()\n",
    "            if max_s < t:\n",
    "                response = \"Hmm..sorry, I don't quite understand that, can you please rephrase your question\"\n",
    "            else:\n",
    "                max_i = np.argmax(sims)\n",
    "                response = data.answer[max_i]\n",
    "            print(\"Bot:\", response)"
   ]
  },
  {
   "cell_type": "code",
   "execution_count": 16,
   "metadata": {},
   "outputs": [
    {
     "data": {
      "text/plain": [
       "'\\ndef chat():\\n    print(\"Specify the confidence level\")\\n    level = input(\"Confidence:\")\\n    conf = int(level)/100\\n    print(\"Hi There....I\\'m Talent Referral Bot and I\\'m here to help you with referral inquiries\\n[type \\'quit\\' to stop]\")\\n    print(\"***TIP: PLEASE ENTER \\n 1.\\'referral_status\\' -> to check your referral status \\n 2.\\'referral_bonus\\' -> to check your bonus payout status and \\n 3.\\'program\\' -> for program related inquiry\")\\n    while True:\\n        user_input = input(\"You:\")\\n        if user_input.lower() == \\'quit\\':\\n            break\\n        if user_input == \\'\\':\\n            print(\"Bot: Can you please provide more information\")\\n        elif user_input.lower() == \\'referral_bonus\\':\\n            print(\"can you please provide your personnel employee number\")\\n            emp_no = input(\"Emp. ID:\")\\n            emp_no = str(emp_no)\\n            ans = search_pay_db(emp_no)\\n            print(\"Bot: Please find your bonus payout details below (in the last 6 months)\")\\n            print(\"Bot:\", ans)\\n        elif user_input.lower() == \\'referral_status\\':\\n            print(\"can you please provide your referral\\'s personal email adress to fetch the status info.\")\\n            email = input(\"Email:\")\\n            email = str(email)\\n            ans = search_status_db(email)\\n            print(\"Bot: Please find the status of your referrals(in the last 6 months)\")\\n            print(\"Bot:\",ans)\\n        elif user_input.lower() == \\'program\\':\\n            print(\"Bot: Please enter your question here\\n (type \\'quit\\' to stop)\")\\n            while True:\\n                user_input = input(\"You:\")\\n                if user_input.lower() == \\'quit\\':\\n                    break\\n                ans = get_response(user_input, conf)\\n                print(\"Bot:\", ans)\\n'"
      ]
     },
     "execution_count": 16,
     "metadata": {},
     "output_type": "execute_result"
    }
   ],
   "source": [
    "\"\"\"\n",
    "def chat():\n",
    "    print(\"Specify the confidence level\")\n",
    "    level = input(\"Confidence:\")\n",
    "    conf = int(level)/100\n",
    "    print(\"Hi There....I'm Talent Referral Bot and I'm here to help you with referral inquiries\\n[type 'quit' to stop]\")\n",
    "    print(\"***TIP: PLEASE ENTER \\n 1.'referral_status' -> to check your referral status \\n 2.'referral_bonus' -> to check your bonus payout status and \\n 3.'program' -> for program related inquiry\")\n",
    "    while True:\n",
    "        user_input = input(\"You:\")\n",
    "        if user_input.lower() == 'quit':\n",
    "            break\n",
    "        if user_input == '':\n",
    "            print(\"Bot: Can you please provide more information\")\n",
    "        elif user_input.lower() == 'referral_bonus':\n",
    "            print(\"can you please provide your personnel employee number\")\n",
    "            emp_no = input(\"Emp. ID:\")\n",
    "            emp_no = str(emp_no)\n",
    "            ans = search_pay_db(emp_no)\n",
    "            print(\"Bot: Please find your bonus payout details below (in the last 6 months)\")\n",
    "            print(\"Bot:\", ans)\n",
    "        elif user_input.lower() == 'referral_status':\n",
    "            print(\"can you please provide your referral's personal email adress to fetch the status info.\")\n",
    "            email = input(\"Email:\")\n",
    "            email = str(email)\n",
    "            ans = search_status_db(email)\n",
    "            print(\"Bot: Please find the status of your referrals(in the last 6 months)\")\n",
    "            print(\"Bot:\",ans)\n",
    "        elif user_input.lower() == 'program':\n",
    "            print(\"Bot: Please enter your question here\\n (type 'quit' to stop)\")\n",
    "            while True:\n",
    "                user_input = input(\"You:\")\n",
    "                if user_input.lower() == 'quit':\n",
    "                    break\n",
    "                ans = get_response(user_input, conf)\n",
    "                print(\"Bot:\", ans)\n",
    "\"\"\""
   ]
  },
  {
   "cell_type": "code",
   "execution_count": 17,
   "metadata": {},
   "outputs": [],
   "source": [
    "def chat_test():\n",
    "    print(\"Specify the confidence level\")\n",
    "    level = input(\"Confidence:\")\n",
    "    conf = int(level)/100\n",
    "    print(\"Hi There....I'm Talent Referral Bot and I'm here to help you with referral inquiries\\n[type 'quit' to stop]\")\n",
    "    print(\"***TIP: PLEASE ENTER \\n 1.'referral_status' -> to check your referral status \\n 2.'referral_bonus' -> to check your bonus payout status and \\n 3.'program' -> for program related inquiry\")\n",
    "    ans = get_response(conf)\n",
    "    #print(\"Bot:\", ans)"
   ]
  },
  {
   "cell_type": "code",
   "execution_count": 18,
   "metadata": {},
   "outputs": [],
   "source": [
    "#chat_test()"
   ]
  },
  {
   "cell_type": "code",
   "execution_count": 19,
   "metadata": {},
   "outputs": [
    {
     "data": {
      "text/plain": [
       "'\\n213408\\n239660\\n249058\\n250194\\n260943\\n271637\\n274346\\n282822\\n284183\\n284315\\n284754\\n285695\\n290560\\n'"
      ]
     },
     "execution_count": 19,
     "metadata": {},
     "output_type": "execute_result"
    }
   ],
   "source": [
    "#Sample RMS IDs for chatbot testing of referral status\n",
    "\"\"\"\n",
    "24211419\n",
    "18327009\n",
    "24482992\n",
    "21996054\n",
    "22425736\n",
    "24426987\n",
    "17783534\n",
    "24601097\n",
    "23736632\n",
    "24698456\n",
    "24623156\n",
    "21705392\n",
    "\"\"\"\n",
    "#Sample Employee IDs for chatbot testing bonus status\n",
    "\"\"\"\n",
    "213408\n",
    "239660\n",
    "249058\n",
    "250194\n",
    "260943\n",
    "271637\n",
    "274346\n",
    "282822\n",
    "284183\n",
    "284315\n",
    "284754\n",
    "285695\n",
    "290560\n",
    "\"\"\""
   ]
  },
  {
   "cell_type": "markdown",
   "metadata": {},
   "source": [
    "# Methods for Chatbot GUI response "
   ]
  },
  {
   "cell_type": "code",
   "execution_count": 20,
   "metadata": {},
   "outputs": [],
   "source": [
    "def gui_response(user_input, t):\n",
    "    if len(user_input) == 0:\n",
    "        print(\"Bot: Can you please provide more information\")\n",
    "    else:\n",
    "        q = text_clean(user_input)\n",
    "        q = text_preprocess(user_input)\n",
    "        q_vec = [embedding_feats(q)]\n",
    "        sims = cosine_similarity(q_vec, question_vectors)\n",
    "        max_s = sims.max()\n",
    "        if max_s < t:\n",
    "            response = \"Hmm..sorry, I don't quite understand that, can you please rephrase your question\"\n",
    "        else:\n",
    "            max_i = np.argmax(sims)\n",
    "            response = data.answer[max_i]\n",
    "    return response"
   ]
  },
  {
   "cell_type": "code",
   "execution_count": 21,
   "metadata": {},
   "outputs": [],
   "source": [
    "def gui_bonus(emp_id):\n",
    "    emp_id = str(emp_id)\n",
    "    ans = search_pay_db(emp_id) \n",
    "    if ans is not None:\n",
    "        res = \"You were paid $\"+ str(ans[1])+\" for referring \"+str(ans[0])+\" along with \"+str(ans[2])+\" pay period\"\n",
    "    else:\n",
    "        res = \"Sorry...No result\" \n",
    "    return res"
   ]
  },
  {
   "cell_type": "code",
   "execution_count": 22,
   "metadata": {},
   "outputs": [],
   "source": [
    "def gui_status(rms_id):\n",
    "    rms_id = str(rms_id)\n",
    "    ans = search_status_db(rms_id)\n",
    "    if ans is not None:\n",
    "        res = \"Your referral \"+str(ans[0])+ \" has been \"+str(ans[2])+\" for requisition with ID:\"+str(ans[1])\n",
    "    else:\n",
    "        res = \"Sorry...No result\" \n",
    "    return res"
   ]
  },
  {
   "cell_type": "markdown",
   "metadata": {},
   "source": [
    "# Creating Chatbot GUI using tkinter updated ao 09/16/2020"
   ]
  },
  {
   "cell_type": "code",
   "execution_count": 38,
   "metadata": {},
   "outputs": [],
   "source": [
    "#Importing tkinter\n",
    "import tkinter\n",
    "from tkinter import *"
   ]
  },
  {
   "cell_type": "code",
   "execution_count": 39,
   "metadata": {},
   "outputs": [],
   "source": [
    "#Enabling High DPI in Windows 10\n",
    "try:\n",
    "    from ctypes import windll\n",
    "    windll.shcore.SetProcessDpiAwareness(1)\n",
    "except:\n",
    "    pass"
   ]
  },
  {
   "cell_type": "code",
   "execution_count": 40,
   "metadata": {},
   "outputs": [],
   "source": [
    "def send(*args):\n",
    "    msg = messageWindow.get(\"1.0\",'end-1c')\n",
    "    messageWindow.delete(\"0.0\",END)\n",
    "    if msg != '':\n",
    "        chatWindow.config(state=NORMAL)\n",
    "        chatWindow.insert(END, \"You: \" + msg + '\\n\\n')\n",
    "        chatWindow.config(foreground=\"#C4D600\", font=(\"Calibri\", 10 ))\n",
    "        res = gui_response(msg, 0.8)\n",
    "        chatWindow.insert(END, \"Bot: \" + res + '\\n\\n')\n",
    "        chatWindow.config(state=DISABLED)\n",
    "        chatWindow.yview(END)"
   ]
  },
  {
   "cell_type": "code",
   "execution_count": 41,
   "metadata": {},
   "outputs": [],
   "source": [
    "def bonus():\n",
    "    pers = messageWindow.get(\"1.0\",'end-1c')\n",
    "    messageWindow.delete(\"0.0\",END)\n",
    "    if pers != '':\n",
    "        chatWindow.config(state=NORMAL)\n",
    "        chatWindow.insert(END, \"Your Emp ID: \" + pers + '\\n\\n')\n",
    "        chatWindow.config(foreground=\"#C4D600\", font=(\"Calibri\", 10 ))\n",
    "        res = gui_bonus(pers)\n",
    "        chatWindow.insert(END, \"Bot:\" + res + '\\n\\n')\n",
    "        chatWindow.config(state=DISABLED)\n",
    "        chatWindow.yview(END)\n",
    "    else:\n",
    "        chatWindow.insert(END, \"Bot: Please enter your Personal Emp.ID: \\n\\n\")"
   ]
  },
  {
   "cell_type": "code",
   "execution_count": 42,
   "metadata": {},
   "outputs": [],
   "source": [
    "def status():\n",
    "    rms_id = messageWindow.get(\"1.0\",'end-1c')\n",
    "    messageWindow.delete(\"0.0\",END)\n",
    "    if rms_id != '':\n",
    "        chatWindow.config(state=NORMAL)\n",
    "        chatWindow.insert(END, \"Candidate RMS ID: \" + rms_id + '\\n\\n')\n",
    "        chatWindow.config(foreground=\"#C4D600\", font=(\"Calibri\", 10 ))\n",
    "        res = gui_status(rms_id)\n",
    "        chatWindow.insert(END, \"Bot: \" + res + '\\n\\n')\n",
    "        chatWindow.config(state=DISABLED)\n",
    "        chatWindow.yview(END)\n",
    "    else:\n",
    "        chatWindow.insert(END, \"Bot: Please enter your referral's RMS.ID: \\n\\n\")"
   ]
  },
  {
   "cell_type": "code",
   "execution_count": 43,
   "metadata": {},
   "outputs": [
    {
     "data": {
      "text/plain": [
       "''"
      ]
     },
     "execution_count": 43,
     "metadata": {},
     "output_type": "execute_result"
    }
   ],
   "source": [
    "root = Tk()\n",
    "root.title(\"Talent Referral Chat Bot\")\n",
    "root.geometry(\"500x600\")\n",
    "root.resizable(width = FALSE, height = FALSE)"
   ]
  },
  {
   "cell_type": "code",
   "execution_count": 44,
   "metadata": {},
   "outputs": [],
   "source": [
    "#Message header of the chatbot\n",
    "\n",
    "message = \"Hi There..I'm Talent Referral ChatBot :)\"\n",
    "msg1 = tkinter.Message(root, text = message)\n",
    "msg1.config(bg=\"grey20\", fg=\"#86BC25\", font=('Calibri', 10, 'bold','italic'), justify = LEFT, width = \"500\")\n",
    "msg1.place(x=6, y=6, height= 15, width=485)"
   ]
  },
  {
   "cell_type": "code",
   "execution_count": 45,
   "metadata": {},
   "outputs": [
    {
     "data": {
      "text/plain": [
       "'\\nmain_menu = Menu(root)\\n\\n# Create the submenu \\nfile_menu = Menu(root)\\n\\n# Add commands to submenu\\nfile_menu.add_command(label=\"New..\")\\nfile_menu.add_command(label=\"Save As..\")\\nfile_menu.add_command(label=\"Exit\")\\nmain_menu.add_cascade(label=\"File\", menu=file_menu)\\n\\n#Add the rest of the menu options to the main menu\\nmain_menu.add_command(label=\"Edit\")\\nmain_menu.add_command(label=\"Quit\")\\nroot.config(menu=main_menu)\\n'"
      ]
     },
     "execution_count": 45,
     "metadata": {},
     "output_type": "execute_result"
    }
   ],
   "source": [
    "\"\"\"\n",
    "main_menu = Menu(root)\n",
    "\n",
    "# Create the submenu \n",
    "file_menu = Menu(root)\n",
    "\n",
    "# Add commands to submenu\n",
    "file_menu.add_command(label=\"New..\")\n",
    "file_menu.add_command(label=\"Save As..\")\n",
    "file_menu.add_command(label=\"Exit\")\n",
    "main_menu.add_cascade(label=\"File\", menu=file_menu)\n",
    "\n",
    "#Add the rest of the menu options to the main menu\n",
    "main_menu.add_command(label=\"Edit\")\n",
    "main_menu.add_command(label=\"Quit\")\n",
    "root.config(menu=main_menu)\n",
    "\"\"\""
   ]
  },
  {
   "cell_type": "code",
   "execution_count": 46,
   "metadata": {},
   "outputs": [],
   "source": [
    "#Create Chat Window\n",
    "\n",
    "chatWindow = Text(root, bd=1, bg=\"grey30\",  width=\"50\", height=\"8\", font=(\"Calibri\", 12), foreground=\"#C4D600\")\n",
    "chatWindow.place(x=6,y=21, height=410, width=480)"
   ]
  },
  {
   "cell_type": "code",
   "execution_count": 47,
   "metadata": {},
   "outputs": [],
   "source": [
    "#Message header for the message window\n",
    "\n",
    "message2 = \"Enter your questions here...\"\n",
    "msg2 = tkinter.Message(root, text = message2)\n",
    "msg2.config(bg=\"grey20\", fg=\"#86BC25\", font=('Calibri', 10, 'bold','italic'), justify = LEFT, width = \"366\")\n",
    "msg2.place(x=6, y=435, height= 15, width=366)"
   ]
  },
  {
   "cell_type": "code",
   "execution_count": 48,
   "metadata": {},
   "outputs": [],
   "source": [
    "#Create Message Window\n",
    "\n",
    "messageWindow = Text(root, bd=0, bg=\"grey30\",width=\"30\", height=\"4\", font=(\"Calibri\", 12), foreground=\"#C4D600\")\n",
    "#messageWindow.insert(END, \"Please enter your queries here...\")\n",
    "#messageWindow.delete(\"0.0\",END)\n",
    "messageWindow.place(x=6, y=450, height=145, width=366)"
   ]
  },
  {
   "cell_type": "code",
   "execution_count": 49,
   "metadata": {},
   "outputs": [],
   "source": [
    "#Bind scrollbar to Chat window\n",
    "\n",
    "scrollbar = Scrollbar(root, command=chatWindow.yview, cursor=\"star\")\n",
    "scrollbar.place(x=485,y=5, height=425)\n",
    "chatWindow['yscrollcommand'] = scrollbar.set"
   ]
  },
  {
   "cell_type": "code",
   "execution_count": 50,
   "metadata": {},
   "outputs": [],
   "source": [
    "#Create Button to send message\n",
    "\n",
    "Button1= Button(root, text=\"Send\",  width=\"12\", height=5, bd=0, bg=\"#86BC25\", activebackground=\"#00bfff\",\n",
    "                foreground='#ffffff',font=(\"Calibri\", 10, 'italic', 'bold'), command = send)\n",
    "Button1.place(x=374, y=435, height=76)\n",
    "\n",
    "Button2= Button(root, text=\"Referral Status\", width=\"12\", height=5, bd=0, bg=\"#000000\", activebackground=\"#00bfff\",\n",
    "                foreground='#ffffff',font=(\"Calibri\", 10,'italic', 'bold'), command = status)\n",
    "Button2.place(x=374, y=513, height=40)\n",
    "\n",
    "Button3= Button(root, text=\"Bonus Payout\",width=\"12\", height=5, bd=0, bg=\"#000000\", activebackground=\"#00bfff\",\n",
    "                foreground='#ffffff',font=(\"Calibri\", 10, 'italic', 'bold'), command = bonus)\n",
    "Button3.place(x=374, y=555, height=40)\n"
   ]
  },
  {
   "cell_type": "code",
   "execution_count": 51,
   "metadata": {},
   "outputs": [
    {
     "data": {
      "text/plain": [
       "'2017100499144send'"
      ]
     },
     "execution_count": 51,
     "metadata": {},
     "output_type": "execute_result"
    }
   ],
   "source": [
    "#Assigning shortcuts and key-bidings to the buttons\n",
    "\n",
    "root.bind(\"<Return>\",send)\n",
    "root.bind(\"<KP_Enter>\",send)"
   ]
  },
  {
   "cell_type": "code",
   "execution_count": 52,
   "metadata": {},
   "outputs": [],
   "source": [
    "root.mainloop()"
   ]
  }
 ],
 "metadata": {
  "kernelspec": {
   "display_name": "Python 3",
   "language": "python",
   "name": "python3"
  },
  "language_info": {
   "codemirror_mode": {
    "name": "ipython",
    "version": 3
   },
   "file_extension": ".py",
   "mimetype": "text/x-python",
   "name": "python",
   "nbconvert_exporter": "python",
   "pygments_lexer": "ipython3",
   "version": "3.7.4"
  }
 },
 "nbformat": 4,
 "nbformat_minor": 2
}
