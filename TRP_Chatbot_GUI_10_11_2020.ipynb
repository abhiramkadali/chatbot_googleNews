{
 "cells": [
  {
   "cell_type": "code",
   "execution_count": 284,
   "metadata": {},
   "outputs": [],
   "source": [
    "#Importing tkinter\n",
    "import tkinter\n",
    "from tkinter import *"
   ]
  },
  {
   "cell_type": "code",
   "execution_count": 285,
   "metadata": {},
   "outputs": [],
   "source": [
    "#Enabling High DPI in Windows 10\n",
    "try:\n",
    "    from ctypes import windll\n",
    "    windll.shcore.SetProcessDpiAwareness(1)\n",
    "except:\n",
    "    pass"
   ]
  },
  {
   "cell_type": "code",
   "execution_count": 286,
   "metadata": {},
   "outputs": [],
   "source": [
    "def send(*args):\n",
    "    msg = messageWindow.get(\"1.0\",'end-1c')\n",
    "    messageWindow.delete(\"0.0\",END)\n",
    "    if msg == '':\n",
    "        chatWindow.config(state=NORMAL, justify = RIGHT)\n",
    "        chatWindow.insert(END, \"You: \\n\" + msg + '\\n')\n",
    "        chatWindow.config(foreground=\"#3b5998\", font=(\"Helvetica Neue\", 9, 'bold' ), justify = LEFT)\n",
    "        res = \"Please feel free to ask me anything related to referral program.\"\n",
    "        chatWindow.insert(END, \"Bot: \" + res + '\\n\\n')\n",
    "        chatWindow.config(state=DISABLED)\n",
    "        chatWindow.yview(END)\n",
    "    else: \n",
    "        chatWindow.config(state=NORMAL)\n",
    "        chatWindow.insert(END, \"You: \" + msg + '\\n')\n",
    "        chatWindow.config(foreground=\"#3b5998\", font=(\"Helvetica Neue\", 9, 'bold' ))\n",
    "        res = gui_response(msg)\n",
    "        chatWindow.insert(END, \"Bot: \" + res + '\\n\\n')\n",
    "        chatWindow.config(state=DISABLED)\n",
    "        chatWindow.yview(END)"
   ]
  },
  {
   "cell_type": "code",
   "execution_count": 287,
   "metadata": {},
   "outputs": [],
   "source": [
    "def bonus():\n",
    "    pers = messageWindow.get(\"1.0\",'end-1c')\n",
    "    messageWindow.delete(\"0.0\",END)\n",
    "    if pers == '':\n",
    "        chatWindow.config(state=NORMAL)\n",
    "        #chatWindow.insert(END, \"You: \" + msg + '\\n')\n",
    "        chatWindow.config(foreground=\"#3b5998\", font=(\"Helvetica Neue\", 9, 'bold' ))\n",
    "        res = \"Please enter your Personal Emp.ID and click on 'Bonus History' again\"\n",
    "        chatWindow.insert(END, \"Bot: \" + res + '\\n\\n')\n",
    "        chatWindow.config(state=DISABLED)\n",
    "        chatWindow.yview(END)\n",
    "    else:\n",
    "        chatWindow.config(state=NORMAL)\n",
    "        chatWindow.insert(END, \"Your Emp ID: \" + pers + '\\n\\n')\n",
    "        chatWindow.config(foreground=\"#3b5998\", font=(\"Helvetica Neue\", 9, 'bold' ))\n",
    "        res = gui_bonus(pers)\n",
    "        chatWindow.insert(END, \"Bot: \" + res + '\\n\\n')\n",
    "        chatWindow.config(state=DISABLED)\n",
    "        chatWindow.yview(END)"
   ]
  },
  {
   "cell_type": "code",
   "execution_count": 288,
   "metadata": {},
   "outputs": [],
   "source": [
    "def status():\n",
    "    rms_id = messageWindow.get(\"1.0\",'end-1c')\n",
    "    messageWindow.delete(\"0.0\",END)\n",
    "    if rms_id == '':\n",
    "        chatWindow.config(state=NORMAL)\n",
    "        #chatWindow.insert(END, \"You: \" + msg + '\\n')\n",
    "        chatWindow.config(foreground=\"#3b5998\", font=(\"Helvetica Neue\", 9, 'bold' ))\n",
    "        res = \"Please enter your referral's RMS.ID and click on 'Referral Status' again\"\n",
    "        chatWindow.insert(END, \"Bot: \" + res + '\\n\\n')\n",
    "        chatWindow.config(state=DISABLED)\n",
    "        chatWindow.yview(END)\n",
    "    else:\n",
    "        chatWindow.config(state=NORMAL)\n",
    "        chatWindow.insert(END, \"Candidate RMS ID: \" + rms_id + '\\n\\n')\n",
    "        chatWindow.config(foreground=\"#3b5998\", font=(\"Helvetica Neue\", 9, 'bold' ))\n",
    "        res = gui_status(rms_id)\n",
    "        chatWindow.insert(END, \"Bot: \" + res + '\\n\\n')\n",
    "        chatWindow.config(state=DISABLED)\n",
    "        chatWindow.yview(END)"
   ]
  },
  {
   "cell_type": "code",
   "execution_count": 289,
   "metadata": {},
   "outputs": [],
   "source": [
    "def quick_help():\n",
    "    chatWindow.config(state=NORMAL)\n",
    "    chatWindow.config(foreground=\"#3b5998\", font=(\"Helvetica Neue\", 9, 'bold'))\n",
    "    res = \"Hi there! Here are a few options for your quick help \\n ----------------------------------------------------------------------------------------- \\n -> Internship Referrals                                    - Type 'Intern'  \\n ----------------------------------------------------------------------------------------- \\n -> Cannot upload Resume                               - Type 'resume'   \\n ----------------------------------------------------------------------------------------- \\n -> Cannot access referral page                       - Type 'technical'\\n ----------------------------------------------------------------------------------------- \\n -> Position not found/No 'refer a friend' link - Type 'job'     \\n----------------------------------------------------------------------------------------- \\n-> Need 'Referral submission' link                   - Type 'link'     \\n----------------------------------------------------------------------------------------- \\n-> Bonus not received                                       - Type 'Bonus'    \\n----------------------------------------------------------------------------------------- \\n-> 'Client' Referrals                                            - Type 'client'   \\n ----------------------------------------------------------------------------------------- \\n Bot: Have a different query??..please feel free to type your question here\"\n",
    "    chatWindow.insert(END, \"Bot: \" + res + '\\n\\n')\n",
    "    chatWindow.config(state=DISABLED)\n",
    "    chatWindow.yview(END)"
   ]
  },
  {
   "cell_type": "code",
   "execution_count": 290,
   "metadata": {},
   "outputs": [
    {
     "data": {
      "text/plain": [
       "''"
      ]
     },
     "execution_count": 290,
     "metadata": {},
     "output_type": "execute_result"
    }
   ],
   "source": [
    "root = Tk()\n",
    "root.title(\"TRP_ChatBot BETA\")\n",
    "root.geometry(\"600x700\")\n",
    "root.resizable(width = FALSE, height = FALSE)"
   ]
  },
  {
   "cell_type": "code",
   "execution_count": 291,
   "metadata": {},
   "outputs": [],
   "source": [
    "#Message header of the chatbot\n",
    "\n",
    "message = \"Referral Program ChatBot\"\n",
    "msg1 = tkinter.Message(root, text = message)\n",
    "msg1.config(bg=\"#3b5998\", fg=\"snow\", font=('Helvetica Neue', 14, 'bold'), justify = RIGHT , width = \"700\")\n",
    "msg1.place(x=0, y=0, height = 32, width = 600)"
   ]
  },
  {
   "cell_type": "code",
   "execution_count": 292,
   "metadata": {},
   "outputs": [],
   "source": [
    "message = \"- Get your referral inquiries answered here -\"\n",
    "msg1 = tkinter.Message(root, text = message)\n",
    "msg1.config(bg=\"#3b5998\", fg=\"snow\", font=('Helvetica Neue', 8, 'italic'), justify = CENTER , width = \"700\")\n",
    "msg1.place(x=0, y=32, height = 18, width = 600)"
   ]
  },
  {
   "cell_type": "code",
   "execution_count": 293,
   "metadata": {},
   "outputs": [],
   "source": [
    "#Create Chat Window\n",
    "chatWindow = Text(root, bd=1, bg=\"grey93\",  width=\"50\", height=\"8\", font=(\"Helvetica Neue\", 12), foreground=\"grey7\")\n",
    "#message3 = \"Hello There....what can I help you with today?\"\n",
    "#msg3 = tkinter.Message(chatWindow, text = message3)\n",
    "#photo = PhotoImage(file='./ipad_image.png')\n",
    "#chatWindow.image_create(END, image=photo)\n",
    "#chatWindow.tag_config(root, background=\"yellow\")\n",
    "#background_image= PhotoImage(file = 'python_logo.gif')\n",
    "#background_label = Label(chatWindow, image=background_image)\n",
    "#background_label.place(x=0, y=0, relwidth=1, relheight=1)\n",
    "chatWindow.place(x=0,y=50, height=500, width=585)\n"
   ]
  },
  {
   "cell_type": "code",
   "execution_count": 294,
   "metadata": {},
   "outputs": [],
   "source": [
    "#Bind scrollbar to Chat window\n",
    "\n",
    "scrollbar = Scrollbar(root, command=chatWindow.yview, cursor=\"clock\")\n",
    "scrollbar.place(x= 585,y = 50, height=500)\n",
    "chatWindow['yscrollcommand'] = scrollbar.set"
   ]
  },
  {
   "cell_type": "code",
   "execution_count": 295,
   "metadata": {},
   "outputs": [
    {
     "ename": "TclError",
     "evalue": "image \"pyimage28\" doesn't exist",
     "output_type": "error",
     "traceback": [
      "\u001b[1;31m---------------------------------------------------------------------------\u001b[0m",
      "\u001b[1;31mTclError\u001b[0m                                  Traceback (most recent call last)",
      "\u001b[1;32m<ipython-input-295-723f17b9e1b9>\u001b[0m in \u001b[0;36m<module>\u001b[1;34m\u001b[0m\n\u001b[0;32m      4\u001b[0m \u001b[1;33m\u001b[0m\u001b[0m\n\u001b[0;32m      5\u001b[0m Button1= Button(root, image = login_btn,  width=\"12\", height=5, bd=0, bg=\"#4267B2\", activebackground=\"#dfe3ee\", \n\u001b[1;32m----> 6\u001b[1;33m                 foreground='#ffffff',font=(\"Helvetica Neue\", 12,'bold'), command = send, borderwidth = 3)\n\u001b[0m\u001b[0;32m      7\u001b[0m \u001b[0mButton1\u001b[0m\u001b[1;33m.\u001b[0m\u001b[0mplace\u001b[0m\u001b[1;33m(\u001b[0m\u001b[0mx\u001b[0m\u001b[1;33m=\u001b[0m\u001b[1;36m500\u001b[0m\u001b[1;33m,\u001b[0m \u001b[0my\u001b[0m\u001b[1;33m=\u001b[0m\u001b[1;36m572\u001b[0m\u001b[1;33m,\u001b[0m \u001b[0mheight\u001b[0m\u001b[1;33m=\u001b[0m\u001b[1;36m128\u001b[0m\u001b[1;33m,\u001b[0m \u001b[0mwidth\u001b[0m \u001b[1;33m=\u001b[0m \u001b[1;36m100\u001b[0m\u001b[1;33m)\u001b[0m\u001b[1;33m\u001b[0m\u001b[1;33m\u001b[0m\u001b[0m\n\u001b[0;32m      8\u001b[0m \u001b[1;33m\u001b[0m\u001b[0m\n",
      "\u001b[1;32m~\\Anaconda3\\envs\\py3-TF2.0\\lib\\tkinter\\__init__.py\u001b[0m in \u001b[0;36m__init__\u001b[1;34m(self, master, cnf, **kw)\u001b[0m\n\u001b[0;32m   2367\u001b[0m             \u001b[0moverrelief\u001b[0m\u001b[1;33m,\u001b[0m \u001b[0mstate\u001b[0m\u001b[1;33m,\u001b[0m \u001b[0mwidth\u001b[0m\u001b[1;33m\u001b[0m\u001b[1;33m\u001b[0m\u001b[0m\n\u001b[0;32m   2368\u001b[0m         \"\"\"\n\u001b[1;32m-> 2369\u001b[1;33m         \u001b[0mWidget\u001b[0m\u001b[1;33m.\u001b[0m\u001b[0m__init__\u001b[0m\u001b[1;33m(\u001b[0m\u001b[0mself\u001b[0m\u001b[1;33m,\u001b[0m \u001b[0mmaster\u001b[0m\u001b[1;33m,\u001b[0m \u001b[1;34m'button'\u001b[0m\u001b[1;33m,\u001b[0m \u001b[0mcnf\u001b[0m\u001b[1;33m,\u001b[0m \u001b[0mkw\u001b[0m\u001b[1;33m)\u001b[0m\u001b[1;33m\u001b[0m\u001b[1;33m\u001b[0m\u001b[0m\n\u001b[0m\u001b[0;32m   2370\u001b[0m \u001b[1;33m\u001b[0m\u001b[0m\n\u001b[0;32m   2371\u001b[0m     \u001b[1;32mdef\u001b[0m \u001b[0mflash\u001b[0m\u001b[1;33m(\u001b[0m\u001b[0mself\u001b[0m\u001b[1;33m)\u001b[0m\u001b[1;33m:\u001b[0m\u001b[1;33m\u001b[0m\u001b[1;33m\u001b[0m\u001b[0m\n",
      "\u001b[1;32m~\\Anaconda3\\envs\\py3-TF2.0\\lib\\tkinter\\__init__.py\u001b[0m in \u001b[0;36m__init__\u001b[1;34m(self, master, widgetName, cnf, kw, extra)\u001b[0m\n\u001b[0;32m   2297\u001b[0m             \u001b[1;32mdel\u001b[0m \u001b[0mcnf\u001b[0m\u001b[1;33m[\u001b[0m\u001b[0mk\u001b[0m\u001b[1;33m]\u001b[0m\u001b[1;33m\u001b[0m\u001b[1;33m\u001b[0m\u001b[0m\n\u001b[0;32m   2298\u001b[0m         self.tk.call(\n\u001b[1;32m-> 2299\u001b[1;33m             (widgetName, self._w) + extra + self._options(cnf))\n\u001b[0m\u001b[0;32m   2300\u001b[0m         \u001b[1;32mfor\u001b[0m \u001b[0mk\u001b[0m\u001b[1;33m,\u001b[0m \u001b[0mv\u001b[0m \u001b[1;32min\u001b[0m \u001b[0mclasses\u001b[0m\u001b[1;33m:\u001b[0m\u001b[1;33m\u001b[0m\u001b[1;33m\u001b[0m\u001b[0m\n\u001b[0;32m   2301\u001b[0m             \u001b[0mk\u001b[0m\u001b[1;33m.\u001b[0m\u001b[0mconfigure\u001b[0m\u001b[1;33m(\u001b[0m\u001b[0mself\u001b[0m\u001b[1;33m,\u001b[0m \u001b[0mv\u001b[0m\u001b[1;33m)\u001b[0m\u001b[1;33m\u001b[0m\u001b[1;33m\u001b[0m\u001b[0m\n",
      "\u001b[1;31mTclError\u001b[0m: image \"pyimage28\" doesn't exist"
     ]
    }
   ],
   "source": [
    "#Create Buttons\n",
    "\n",
    "login_btn = PhotoImage(file = 'enter2.png')\n",
    "\n",
    "Button1= Button(root, image = login_btn,  width=\"12\", height=5, bd=0, bg=\"#4267B2\", activebackground=\"#dfe3ee\", \n",
    "                foreground='#ffffff',font=(\"Helvetica Neue\", 12,'bold'), command = send, borderwidth = 3)\n",
    "Button1.place(x=500, y=572, height=128, width = 100)\n",
    "\n",
    "\n",
    "Button4= Button(root, text=\"Quick help\",width=\"12\", height=5, bd=0, bg=\"#4267B2\", \n",
    "                activebackground=\"#dfe3ee\", foreground='#ffffff',font=(\"Helvetica Neue\", 10,'bold'), \n",
    "                borderwidth = 2, command = quick_help)\n",
    "Button4.place(x=0, y=522, height=30, width = 200)\n",
    "\n",
    "\n",
    "Button2= Button(root, text=\"Referral status\", width=\"12\", height=5, bd=0, bg=\"#4267B2\", \n",
    "                activebackground=\"#dfe3ee\", foreground='#ffffff',font=(\"Helvetica Neue\", 10,'bold'), \n",
    "                borderwidth = 2, command = status)\n",
    "Button2.place(x=400, y=522, height=30, width = 200)\n",
    "\n",
    "\n",
    "Button3= Button(root, text=\"My bonus history\", width=\"12\", height=5, bd=0, bg=\"#4267B2\", \n",
    "                activebackground=\"#dfe3ee\", foreground='#ffffff',font=(\"Helvetica Neue\", 10, 'bold'), \n",
    "                borderwidth = 2, command = bonus)\n",
    "Button3.place(x=200, y=522, height=30, width = 200)"
   ]
  },
  {
   "cell_type": "code",
   "execution_count": null,
   "metadata": {},
   "outputs": [],
   "source": [
    "#Message header for the message window\n",
    "\n",
    "message2 = \"Enter your questions below...\"\n",
    "msg2 = tkinter.Message(root, text = message2)\n",
    "msg2.config(bg=\"#8b9dc3\", fg=\"snow\", font=('Calibri', 9, 'italic'), justify = LEFT, width = \"366\")\n",
    "msg2.place(x=0, y= 552, height= 20, width = 600)"
   ]
  },
  {
   "cell_type": "code",
   "execution_count": null,
   "metadata": {},
   "outputs": [],
   "source": [
    "#Create Message Window\n",
    "\n",
    "messageWindow = Text(root, bd=0, bg=\"grey99\",width=\"30\", height=\"4\", font=(\"Helvetica Neue\", 10), foreground=\"grey7\")\n",
    "#messageWindow.insert(END, \"Please enter your queries here...\")\n",
    "#messageWindow.delete(\"0.0\",END)\n",
    "messageWindow.place(x=7, y=579, height=113, width=486)"
   ]
  },
  {
   "cell_type": "code",
   "execution_count": null,
   "metadata": {},
   "outputs": [],
   "source": [
    "#Assigning shortcuts and key-bidings to the buttons\n",
    "\n",
    "root.bind(\"<Return>\",send)\n",
    "root.bind(\"<KP_Enter>\",send)"
   ]
  },
  {
   "cell_type": "code",
   "execution_count": null,
   "metadata": {},
   "outputs": [],
   "source": [
    "root.mainloop()"
   ]
  }
 ],
 "metadata": {
  "kernelspec": {
   "display_name": "py3-TF2.0",
   "language": "python",
   "name": "py3-tf2.0"
  },
  "language_info": {
   "codemirror_mode": {
    "name": "ipython",
    "version": 3
   },
   "file_extension": ".py",
   "mimetype": "text/x-python",
   "name": "python",
   "nbconvert_exporter": "python",
   "pygments_lexer": "ipython3",
   "version": "3.7.9"
  }
 },
 "nbformat": 4,
 "nbformat_minor": 2
}
