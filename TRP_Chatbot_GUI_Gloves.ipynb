{
 "cells": [
  {
   "cell_type": "code",
   "execution_count": 1,
   "metadata": {},
   "outputs": [],
   "source": [
    "import os\n",
    "os.chdir(\"C:\\\\Users\\\\akadali\\\\Desktop\\\\Deep_NLP\\\\MLG_Capstone_ChatBot\\\\Chatbot_Intent_Classification - Glove\")"
   ]
  },
  {
   "cell_type": "code",
   "execution_count": 2,
   "metadata": {},
   "outputs": [],
   "source": [
    "import json\n",
    "intents = []\n",
    "questions = []\n",
    "words = []\n",
    "file = open(\"train_data2.json\").read()\n",
    "qa_file = json.loads(file)"
   ]
  },
  {
   "cell_type": "code",
   "execution_count": 3,
   "metadata": {},
   "outputs": [],
   "source": [
    "for q in qa_file['intents']:\n",
    "    if q['tag'] not in intents:\n",
    "        intents.append(q['tag'])\n",
    "        for pattern in q['patterns']:\n",
    "            questions.append(pattern)"
   ]
  },
  {
   "cell_type": "code",
   "execution_count": 4,
   "metadata": {},
   "outputs": [],
   "source": [
    "import nltk\n",
    "import numpy as np\n",
    "import pandas as pd\n",
    "from nltk import word_tokenize"
   ]
  },
  {
   "cell_type": "code",
   "execution_count": 5,
   "metadata": {},
   "outputs": [],
   "source": [
    "from tensorflow.keras.models import load_model\n",
    "model = load_model('chatbot_model_300d.h5')"
   ]
  },
  {
   "cell_type": "markdown",
   "metadata": {},
   "source": [
    "### Getting Embeddings from Glove"
   ]
  },
  {
   "cell_type": "code",
   "execution_count": 6,
   "metadata": {},
   "outputs": [],
   "source": [
    "# Getting embeddings from Glove\n",
    "os.chdir(\"C:/Users/akadali/Desktop/Deep_NLP/MLG_Capstone_ChatBot/Chatbot_Intent_Classification - Glove\")\n",
    "embeddings_index = dict()\n",
    "f = open('glove.6B.300d.txt', encoding=\"utf8\")\n",
    "for line in f:\n",
    "    values = line.split()\n",
    "    word = values[0]\n",
    "    coefs = np.asarray(values[1:], dtype='float32')\n",
    "    embeddings_index[word] = coefs\n",
    "f.close()"
   ]
  },
  {
   "cell_type": "code",
   "execution_count": 7,
   "metadata": {},
   "outputs": [],
   "source": [
    "# Creating a feature vector by averaging embeddings for all words in a sentence with Glovebox embeddings\n",
    "def embedding_feats_300(query):\n",
    "    tokens = word_tokenize(query)\n",
    "    DIMENSION = 300\n",
    "    zero_vector = np.zeros(DIMENSION)\n",
    "    #feats = []\n",
    "    feat_for_this = zero_vector\n",
    "    count_for_this = 0\n",
    "    for token in tokens:\n",
    "        if token in embeddings_index:\n",
    "            feat_for_this += embeddings_index[token][:300]\n",
    "            count_for_this+= 1\n",
    "    feats = feat_for_this/count_for_this\n",
    "    return feats"
   ]
  },
  {
   "cell_type": "code",
   "execution_count": 12,
   "metadata": {},
   "outputs": [
    {
     "name": "stdout",
     "output_type": "stream",
     "text": [
      "My pleasure. Happy to help!\n"
     ]
    }
   ],
   "source": [
    "import random\n",
    "question = \"How can I submit my referral\"\n",
    "feat = embedding_feats_300(question)\n",
    "result_index = np.argmax(model.predict(feat.reshape(1,-1)))\n",
    "result = intents[result_index]\n",
    "for q in qa_file['intents']:\n",
    "    if q['tag'] == result:\n",
    "        response = random.choice(q['responses'])\n",
    "        print(response)\n",
    "        break"
   ]
  },
  {
   "cell_type": "code",
   "execution_count": 21,
   "metadata": {},
   "outputs": [
    {
     "data": {
      "text/plain": [
       "'If you are no longer an active employee/leaving the firm before your referral completes 30days with the firm, you will be eligible for the Alumni Referral Program. The alumni Referral Program payment can be paid out by Payroll if you were employed within the current calendar year or by Accounts Payable if you were not employed in the current calendar year. \\n\\nYou will find more details in the webpage here - https://www2.deloitte.com/us/en/pages/careers/articles/alumni-referral-deloitte-us-join-deloitte.html'"
      ]
     },
     "execution_count": 21,
     "metadata": {},
     "output_type": "execute_result"
    }
   ],
   "source": [
    "data['answer'].iloc[10]"
   ]
  },
  {
   "cell_type": "markdown",
   "metadata": {},
   "source": [
    "## Estalishing connection to the 'Talent referral payout' database in SQL\n",
    "* Establish connection with the TRP databases (both payout and referral databases) in SQL Workbench\n",
    "* Write functions to retrieve the data based on user request."
   ]
  },
  {
   "cell_type": "code",
   "execution_count": null,
   "metadata": {},
   "outputs": [],
   "source": [
    "import mysql.connector\n",
    "mydb = mysql.connector.connect(host=\"localhost\", \n",
    "                               user=\"root\", \n",
    "                               passwd=\"root\",\n",
    "                               auth_plugin = 'mysql_native_password',\n",
    "                               database = \"talent_referral_payout\")"
   ]
  },
  {
   "cell_type": "code",
   "execution_count": null,
   "metadata": {},
   "outputs": [],
   "source": [
    "mycursor = mydb.cursor(buffered = True)"
   ]
  },
  {
   "cell_type": "code",
   "execution_count": null,
   "metadata": {},
   "outputs": [],
   "source": [
    "#Definition to obtain te referral bonus payout history of a referring professional\n",
    "\n",
    "def search_pay_db(emp_id):\n",
    "    emp_id = str(emp_id)\n",
    "    #print(type(emp_id))\n",
    "    query = \"SELECT referral_name,amount,date_of_origin FROM trp_payment_report_sample WHERE emp_num = \"+ emp_id\n",
    "    mycursor.execute(query)\n",
    "    return mycursor.fetchone()"
   ]
  },
  {
   "cell_type": "code",
   "execution_count": null,
   "metadata": {},
   "outputs": [],
   "source": [
    "#Definition to obtain the status of referrals submitted by the referring professional\n",
    "\n",
    "def search_status_db(rms_id):\n",
    "    rms_id = str(rms_id)\n",
    "    #print(type(emp_id))\n",
    "    query = \"SELECT candidate_name,requisition_no,current_status,reference_date FROM trp_status WHERE candidate_id = \" + rms_id\n",
    "    mycursor.execute(query)\n",
    "    return mycursor.fetchone()"
   ]
  },
  {
   "cell_type": "markdown",
   "metadata": {},
   "source": [
    "# Chatbot GUI"
   ]
  },
  {
   "cell_type": "markdown",
   "metadata": {},
   "source": [
    "# Methods for Chatbot GUI response "
   ]
  },
  {
   "cell_type": "code",
   "execution_count": null,
   "metadata": {},
   "outputs": [],
   "source": [
    "def gui_response(user_input):\n",
    "    user_input = str(user_input)\n",
    "    if len(user_input) == 0:\n",
    "        response = \"Looks like you have not asked any question. Please feel free to ask me anything related to referral program.\"\n",
    "    else:\n",
    "        user_input = text_clean(user_input)\n",
    "        user_input = text_preprocess(user_input)\n",
    "        q_vec = [embedding_feats_200(user_input)]\n",
    "        sims = cosine_similarity(q_vec, question_vectors)\n",
    "        max_s = sims.max()\n",
    "        if max_s < 0.6:\n",
    "            response = \"I'm sorry, I don't think I understood that correctly, can you please rephrase your question and try again.Feel free to email ustalentreferralprogram@deloitte.com to reach referral team, if I’m not able to solve your problem right now\"\n",
    "        else:\n",
    "            max_i = np.argmax(sims)\n",
    "            response = data.answer[max_i]\n",
    "    return response"
   ]
  },
  {
   "cell_type": "code",
   "execution_count": null,
   "metadata": {},
   "outputs": [],
   "source": [
    "def gui_bonus(emp_id):\n",
    "    emp_id = str(emp_id)\n",
    "    ans = search_pay_db(emp_id) \n",
    "    if ans is not None:\n",
    "        res = \"You were paid $\"+ str(ans[1])+\" for referring \"+str(ans[0])+\" along with \"+str(ans[2])+\" pay period\"\n",
    "    else:\n",
    "        res = \"Sorry, I couldn't find any result with the input provided\" \n",
    "    return res"
   ]
  },
  {
   "cell_type": "code",
   "execution_count": null,
   "metadata": {},
   "outputs": [],
   "source": [
    "def gui_status(rms_id):\n",
    "    rms_id = str(rms_id)\n",
    "    ans = search_status_db(rms_id)\n",
    "    if ans is not None:\n",
    "        res = \"Your referral \"+str(ans[0])+ \" has been \"+str(ans[2])+\" for requisition with ID:\"+str(ans[1])\n",
    "    else:\n",
    "        res = \"Sorry, I couldn't find any result with the input provided\" \n",
    "    return res"
   ]
  },
  {
   "cell_type": "markdown",
   "metadata": {},
   "source": [
    "## Creating Chatbot GUI using tkinter"
   ]
  },
  {
   "cell_type": "code",
   "execution_count": 284,
   "metadata": {},
   "outputs": [],
   "source": [
    "#Importing tkinter\n",
    "import tkinter\n",
    "from tkinter import *"
   ]
  },
  {
   "cell_type": "code",
   "execution_count": 285,
   "metadata": {},
   "outputs": [],
   "source": [
    "#Enabling High DPI in Windows 10\n",
    "try:\n",
    "    from ctypes import windll\n",
    "    windll.shcore.SetProcessDpiAwareness(1)\n",
    "except:\n",
    "    pass"
   ]
  },
  {
   "cell_type": "markdown",
   "metadata": {},
   "source": [
    "### Methods for Buttons"
   ]
  },
  {
   "cell_type": "code",
   "execution_count": 286,
   "metadata": {},
   "outputs": [],
   "source": [
    "def send(*args):\n",
    "    msg = messageWindow.get(\"1.0\",'end-1c')\n",
    "    messageWindow.delete(\"0.0\",END)\n",
    "    if msg == '':\n",
    "        chatWindow.config(state=NORMAL, justify = RIGHT)\n",
    "        chatWindow.insert(END, \"You: \\n\" + msg + '\\n')\n",
    "        chatWindow.config(foreground=\"#3b5998\", font=(\"Helvetica Neue\", 9, 'bold' ), justify = LEFT)\n",
    "        res = \"Please feel free to ask me anything related to referral program.\"\n",
    "        chatWindow.insert(END, \"Bot: \" + res + '\\n\\n')\n",
    "        chatWindow.config(state=DISABLED)\n",
    "        chatWindow.yview(END)\n",
    "    else: \n",
    "        chatWindow.config(state=NORMAL)\n",
    "        chatWindow.insert(END, \"You: \" + msg + '\\n')\n",
    "        chatWindow.config(foreground=\"#3b5998\", font=(\"Helvetica Neue\", 9, 'bold' ))\n",
    "        res = gui_response(msg)\n",
    "        chatWindow.insert(END, \"Bot: \" + res + '\\n\\n')\n",
    "        chatWindow.config(state=DISABLED)\n",
    "        chatWindow.yview(END)"
   ]
  },
  {
   "cell_type": "code",
   "execution_count": 287,
   "metadata": {},
   "outputs": [],
   "source": [
    "def bonus():\n",
    "    pers = messageWindow.get(\"1.0\",'end-1c')\n",
    "    messageWindow.delete(\"0.0\",END)\n",
    "    if pers == '':\n",
    "        chatWindow.config(state=NORMAL)\n",
    "        #chatWindow.insert(END, \"You: \" + msg + '\\n')\n",
    "        chatWindow.config(foreground=\"#3b5998\", font=(\"Helvetica Neue\", 9, 'bold' ))\n",
    "        res = \"Please enter your Personal Emp.ID and click on 'Bonus History' again\"\n",
    "        chatWindow.insert(END, \"Bot: \" + res + '\\n\\n')\n",
    "        chatWindow.config(state=DISABLED)\n",
    "        chatWindow.yview(END)\n",
    "    else:\n",
    "        chatWindow.config(state=NORMAL)\n",
    "        chatWindow.insert(END, \"Your Emp ID: \" + pers + '\\n\\n')\n",
    "        chatWindow.config(foreground=\"#3b5998\", font=(\"Helvetica Neue\", 9, 'bold' ))\n",
    "        res = gui_bonus(pers)\n",
    "        chatWindow.insert(END, \"Bot: \" + res + '\\n\\n')\n",
    "        chatWindow.config(state=DISABLED)\n",
    "        chatWindow.yview(END)"
   ]
  },
  {
   "cell_type": "code",
   "execution_count": 288,
   "metadata": {},
   "outputs": [],
   "source": [
    "def status():\n",
    "    rms_id = messageWindow.get(\"1.0\",'end-1c')\n",
    "    messageWindow.delete(\"0.0\",END)\n",
    "    if rms_id == '':\n",
    "        chatWindow.config(state=NORMAL)\n",
    "        #chatWindow.insert(END, \"You: \" + msg + '\\n')\n",
    "        chatWindow.config(foreground=\"#3b5998\", font=(\"Helvetica Neue\", 9, 'bold' ))\n",
    "        res = \"Please enter your referral's RMS.ID and click on 'Referral Status' again\"\n",
    "        chatWindow.insert(END, \"Bot: \" + res + '\\n\\n')\n",
    "        chatWindow.config(state=DISABLED)\n",
    "        chatWindow.yview(END)\n",
    "    else:\n",
    "        chatWindow.config(state=NORMAL)\n",
    "        chatWindow.insert(END, \"Candidate RMS ID: \" + rms_id + '\\n\\n')\n",
    "        chatWindow.config(foreground=\"#3b5998\", font=(\"Helvetica Neue\", 9, 'bold' ))\n",
    "        res = gui_status(rms_id)\n",
    "        chatWindow.insert(END, \"Bot: \" + res + '\\n\\n')\n",
    "        chatWindow.config(state=DISABLED)\n",
    "        chatWindow.yview(END)"
   ]
  },
  {
   "cell_type": "code",
   "execution_count": 289,
   "metadata": {},
   "outputs": [],
   "source": [
    "def quick_help():\n",
    "    chatWindow.config(state=NORMAL)\n",
    "    chatWindow.config(foreground=\"#3b5998\", font=(\"Helvetica Neue\", 9, 'bold'))\n",
    "    res = \"Hi there! Here are a few options for your quick help \\n ----------------------------------------------------------------------------------------- \\n -> Internship Referrals                                    - Type 'Intern'  \\n ----------------------------------------------------------------------------------------- \\n -> Cannot upload Resume                               - Type 'resume'   \\n ----------------------------------------------------------------------------------------- \\n -> Cannot access referral page                       - Type 'technical'\\n ----------------------------------------------------------------------------------------- \\n -> Position not found/No 'refer a friend' link - Type 'job'     \\n----------------------------------------------------------------------------------------- \\n-> Need 'Referral submission' link                   - Type 'link'     \\n----------------------------------------------------------------------------------------- \\n-> Bonus not received                                       - Type 'Bonus'    \\n----------------------------------------------------------------------------------------- \\n-> 'Client' Referrals                                            - Type 'client'   \\n ----------------------------------------------------------------------------------------- \\n Bot: Have a different query??..please feel free to type your question here\"\n",
    "    chatWindow.insert(END, \"Bot: \" + res + '\\n\\n')\n",
    "    chatWindow.config(state=DISABLED)\n",
    "    chatWindow.yview(END)"
   ]
  },
  {
   "cell_type": "code",
   "execution_count": 290,
   "metadata": {},
   "outputs": [
    {
     "data": {
      "text/plain": [
       "''"
      ]
     },
     "execution_count": 290,
     "metadata": {},
     "output_type": "execute_result"
    }
   ],
   "source": [
    "root = Tk()\n",
    "root.title(\"TRP_ChatBot BETA\")\n",
    "root.geometry(\"600x700\")\n",
    "root.resizable(width = FALSE, height = FALSE)"
   ]
  },
  {
   "cell_type": "code",
   "execution_count": 291,
   "metadata": {},
   "outputs": [],
   "source": [
    "#Message header of the chatbot\n",
    "message = \"Referral Program ChatBot\"\n",
    "msg1 = tkinter.Message(root, text = message)\n",
    "msg1.config(bg=\"#3b5998\", fg=\"snow\", font=('Helvetica Neue', 14, 'bold'), justify = RIGHT , width = \"700\")\n",
    "msg1.place(x=0, y=0, height = 32, width = 600)"
   ]
  },
  {
   "cell_type": "code",
   "execution_count": 292,
   "metadata": {},
   "outputs": [],
   "source": [
    "message = \"- Get your referral inquiries answered here -\"\n",
    "msg1 = tkinter.Message(root, text = message)\n",
    "msg1.config(bg=\"#3b5998\", fg=\"snow\", font=('Helvetica Neue', 8, 'italic'), justify = CENTER , width = \"700\")\n",
    "msg1.place(x=0, y=32, height = 18, width = 600)"
   ]
  },
  {
   "cell_type": "code",
   "execution_count": 293,
   "metadata": {},
   "outputs": [],
   "source": [
    "#Create Chat Window\n",
    "chatWindow = Text(root, bd=1, bg=\"grey93\",  width=\"50\", height=\"8\", font=(\"Helvetica Neue\", 12), foreground=\"grey7\")\n",
    "chatWindow.place(x=0,y=50, height=500, width=585)"
   ]
  },
  {
   "cell_type": "code",
   "execution_count": 294,
   "metadata": {},
   "outputs": [],
   "source": [
    "#Bind scrollbar to Chat window\n",
    "scrollbar = Scrollbar(root, command=chatWindow.yview, cursor=\"clock\")\n",
    "scrollbar.place(x= 585,y = 50, height=500)\n",
    "chatWindow['yscrollcommand'] = scrollbar.set"
   ]
  },
  {
   "cell_type": "markdown",
   "metadata": {},
   "source": [
    "### Buttons"
   ]
  },
  {
   "cell_type": "code",
   "execution_count": 295,
   "metadata": {},
   "outputs": [
    {
     "ename": "TclError",
     "evalue": "image \"pyimage28\" doesn't exist",
     "output_type": "error",
     "traceback": [
      "\u001b[1;31m---------------------------------------------------------------------------\u001b[0m",
      "\u001b[1;31mTclError\u001b[0m                                  Traceback (most recent call last)",
      "\u001b[1;32m<ipython-input-295-723f17b9e1b9>\u001b[0m in \u001b[0;36m<module>\u001b[1;34m\u001b[0m\n\u001b[0;32m      4\u001b[0m \u001b[1;33m\u001b[0m\u001b[0m\n\u001b[0;32m      5\u001b[0m Button1= Button(root, image = login_btn,  width=\"12\", height=5, bd=0, bg=\"#4267B2\", activebackground=\"#dfe3ee\", \n\u001b[1;32m----> 6\u001b[1;33m                 foreground='#ffffff',font=(\"Helvetica Neue\", 12,'bold'), command = send, borderwidth = 3)\n\u001b[0m\u001b[0;32m      7\u001b[0m \u001b[0mButton1\u001b[0m\u001b[1;33m.\u001b[0m\u001b[0mplace\u001b[0m\u001b[1;33m(\u001b[0m\u001b[0mx\u001b[0m\u001b[1;33m=\u001b[0m\u001b[1;36m500\u001b[0m\u001b[1;33m,\u001b[0m \u001b[0my\u001b[0m\u001b[1;33m=\u001b[0m\u001b[1;36m572\u001b[0m\u001b[1;33m,\u001b[0m \u001b[0mheight\u001b[0m\u001b[1;33m=\u001b[0m\u001b[1;36m128\u001b[0m\u001b[1;33m,\u001b[0m \u001b[0mwidth\u001b[0m \u001b[1;33m=\u001b[0m \u001b[1;36m100\u001b[0m\u001b[1;33m)\u001b[0m\u001b[1;33m\u001b[0m\u001b[1;33m\u001b[0m\u001b[0m\n\u001b[0;32m      8\u001b[0m \u001b[1;33m\u001b[0m\u001b[0m\n",
      "\u001b[1;32m~\\Anaconda3\\envs\\py3-TF2.0\\lib\\tkinter\\__init__.py\u001b[0m in \u001b[0;36m__init__\u001b[1;34m(self, master, cnf, **kw)\u001b[0m\n\u001b[0;32m   2367\u001b[0m             \u001b[0moverrelief\u001b[0m\u001b[1;33m,\u001b[0m \u001b[0mstate\u001b[0m\u001b[1;33m,\u001b[0m \u001b[0mwidth\u001b[0m\u001b[1;33m\u001b[0m\u001b[1;33m\u001b[0m\u001b[0m\n\u001b[0;32m   2368\u001b[0m         \"\"\"\n\u001b[1;32m-> 2369\u001b[1;33m         \u001b[0mWidget\u001b[0m\u001b[1;33m.\u001b[0m\u001b[0m__init__\u001b[0m\u001b[1;33m(\u001b[0m\u001b[0mself\u001b[0m\u001b[1;33m,\u001b[0m \u001b[0mmaster\u001b[0m\u001b[1;33m,\u001b[0m \u001b[1;34m'button'\u001b[0m\u001b[1;33m,\u001b[0m \u001b[0mcnf\u001b[0m\u001b[1;33m,\u001b[0m \u001b[0mkw\u001b[0m\u001b[1;33m)\u001b[0m\u001b[1;33m\u001b[0m\u001b[1;33m\u001b[0m\u001b[0m\n\u001b[0m\u001b[0;32m   2370\u001b[0m \u001b[1;33m\u001b[0m\u001b[0m\n\u001b[0;32m   2371\u001b[0m     \u001b[1;32mdef\u001b[0m \u001b[0mflash\u001b[0m\u001b[1;33m(\u001b[0m\u001b[0mself\u001b[0m\u001b[1;33m)\u001b[0m\u001b[1;33m:\u001b[0m\u001b[1;33m\u001b[0m\u001b[1;33m\u001b[0m\u001b[0m\n",
      "\u001b[1;32m~\\Anaconda3\\envs\\py3-TF2.0\\lib\\tkinter\\__init__.py\u001b[0m in \u001b[0;36m__init__\u001b[1;34m(self, master, widgetName, cnf, kw, extra)\u001b[0m\n\u001b[0;32m   2297\u001b[0m             \u001b[1;32mdel\u001b[0m \u001b[0mcnf\u001b[0m\u001b[1;33m[\u001b[0m\u001b[0mk\u001b[0m\u001b[1;33m]\u001b[0m\u001b[1;33m\u001b[0m\u001b[1;33m\u001b[0m\u001b[0m\n\u001b[0;32m   2298\u001b[0m         self.tk.call(\n\u001b[1;32m-> 2299\u001b[1;33m             (widgetName, self._w) + extra + self._options(cnf))\n\u001b[0m\u001b[0;32m   2300\u001b[0m         \u001b[1;32mfor\u001b[0m \u001b[0mk\u001b[0m\u001b[1;33m,\u001b[0m \u001b[0mv\u001b[0m \u001b[1;32min\u001b[0m \u001b[0mclasses\u001b[0m\u001b[1;33m:\u001b[0m\u001b[1;33m\u001b[0m\u001b[1;33m\u001b[0m\u001b[0m\n\u001b[0;32m   2301\u001b[0m             \u001b[0mk\u001b[0m\u001b[1;33m.\u001b[0m\u001b[0mconfigure\u001b[0m\u001b[1;33m(\u001b[0m\u001b[0mself\u001b[0m\u001b[1;33m,\u001b[0m \u001b[0mv\u001b[0m\u001b[1;33m)\u001b[0m\u001b[1;33m\u001b[0m\u001b[1;33m\u001b[0m\u001b[0m\n",
      "\u001b[1;31mTclError\u001b[0m: image \"pyimage28\" doesn't exist"
     ]
    }
   ],
   "source": [
    "#Create Buttons\n",
    "\n",
    "#login_btn = PhotoImage(file = 'enter2.png')\n",
    "\n",
    "Button1= Button(root, text = 'Enter ->',  width=\"12\", height=5, bd=0, bg=\"#4267B2\", activebackground=\"#dfe3ee\", \n",
    "                foreground='#ffffff',font=(\"Helvetica Neue\", 12,'bold'), command = send, borderwidth = 3)\n",
    "Button1.place(x=500, y=572, height=128, width = 100)\n",
    "\n",
    "\n",
    "Button4= Button(root, text=\"Quick help\",width=\"12\", height=5, bd=0, bg=\"#4267B2\", \n",
    "                activebackground=\"#dfe3ee\", foreground='#ffffff',font=(\"Helvetica Neue\", 10,'bold'), \n",
    "                borderwidth = 2, command = quick_help)\n",
    "Button4.place(x=0, y=522, height=30, width = 200)\n",
    "\n",
    "\n",
    "Button2= Button(root, text=\"Referral status\", width=\"12\", height=5, bd=0, bg=\"#4267B2\", \n",
    "                activebackground=\"#dfe3ee\", foreground='#ffffff',font=(\"Helvetica Neue\", 10,'bold'), \n",
    "                borderwidth = 2, command = status)\n",
    "Button2.place(x=400, y=522, height=30, width = 200)\n",
    "\n",
    "\n",
    "Button3= Button(root, text=\"My bonus history\", width=\"12\", height=5, bd=0, bg=\"#4267B2\", \n",
    "                activebackground=\"#dfe3ee\", foreground='#ffffff',font=(\"Helvetica Neue\", 10, 'bold'), \n",
    "                borderwidth = 2, command = bonus)\n",
    "Button3.place(x=200, y=522, height=30, width = 200)"
   ]
  },
  {
   "cell_type": "code",
   "execution_count": null,
   "metadata": {},
   "outputs": [],
   "source": [
    "#Message header for the message window\n",
    "\n",
    "message2 = \"Enter your questions below...\"\n",
    "msg2 = tkinter.Message(root, text = message2)\n",
    "msg2.config(bg=\"#8b9dc3\", fg=\"snow\", font=('Calibri', 9, 'italic'), justify = LEFT, width = \"366\")\n",
    "msg2.place(x=0, y= 552, height= 20, width = 600)"
   ]
  },
  {
   "cell_type": "code",
   "execution_count": null,
   "metadata": {},
   "outputs": [],
   "source": [
    "#Create Message Window\n",
    "\n",
    "messageWindow = Text(root, bd=0, bg=\"grey99\",width=\"30\", height=\"4\", font=(\"Helvetica Neue\", 10), foreground=\"grey7\")\n",
    "#messageWindow.insert(END, \"Please enter your queries here...\")\n",
    "#messageWindow.delete(\"0.0\",END)\n",
    "messageWindow.place(x=7, y=579, height=113, width=486)"
   ]
  },
  {
   "cell_type": "code",
   "execution_count": null,
   "metadata": {},
   "outputs": [],
   "source": [
    "#Assigning shortcuts and key-bidings to the buttons\n",
    "\n",
    "root.bind(\"<Return>\",send)\n",
    "root.bind(\"<KP_Enter>\",send)"
   ]
  },
  {
   "cell_type": "code",
   "execution_count": null,
   "metadata": {},
   "outputs": [],
   "source": [
    "root.mainloop()"
   ]
  }
 ],
 "metadata": {
  "kernelspec": {
   "display_name": "py3-TF2.0",
   "language": "python",
   "name": "py3-tf2.0"
  },
  "language_info": {
   "codemirror_mode": {
    "name": "ipython",
    "version": 3
   },
   "file_extension": ".py",
   "mimetype": "text/x-python",
   "name": "python",
   "nbconvert_exporter": "python",
   "pygments_lexer": "ipython3",
   "version": "3.7.9"
  }
 },
 "nbformat": 4,
 "nbformat_minor": 2
}
