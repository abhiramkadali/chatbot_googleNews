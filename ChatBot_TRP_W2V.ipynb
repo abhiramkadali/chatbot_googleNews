{
 "cells": [
  {
   "cell_type": "markdown",
   "metadata": {},
   "source": [
    "# TRP FAQ chatbot using pretrained Google News Word2Vec Model -\n",
    "run on Python 3 Environment"
   ]
  },
  {
   "cell_type": "markdown",
   "metadata": {},
   "source": [
    "Importing necessary libraries"
   ]
  },
  {
   "cell_type": "code",
   "execution_count": 200,
   "metadata": {},
   "outputs": [],
   "source": [
    "import os \n",
    "import numpy as np\n",
    "import pandas as pd\n",
    "import re, unicodedata\n",
    "import string\n",
    "import pickle\n",
    "from nltk import sent_tokenize, word_tokenize"
   ]
  },
  {
   "cell_type": "code",
   "execution_count": 201,
   "metadata": {},
   "outputs": [],
   "source": [
    "os.chdir('C:/Users/akadali/Desktop/Deep_NLP/MLG_Capstone_ChatBot/ChatBot_GoogleW2V')\n",
    "data = pd.read_csv('chatbot_train.csv', encoding = 'latin1')\n",
    "data = data[['question', 'answer', 'intent']]"
   ]
  },
  {
   "cell_type": "markdown",
   "metadata": {},
   "source": [
    "Importing stop words, WordNetLemmatizer and punctuations"
   ]
  },
  {
   "cell_type": "markdown",
   "metadata": {},
   "source": [
    "Data Cleaning\n",
    "-----\n",
    "\n",
    "* This dataset has a lot of contractions, hence all of them need to be removed/replaced within the dataset. The below function replaces the contractions with corresponding word pairs.\n",
    "\n",
    "* Also, there are quite a few abbreviations such as U.S., US, USI to be substituted with their expanded forms\n",
    "\n",
    "* removing additional spaces, if there are any"
   ]
  },
  {
   "cell_type": "code",
   "execution_count": 202,
   "metadata": {},
   "outputs": [
    {
     "name": "stdout",
     "output_type": "stream",
     "text": [
      "!\"#$%&'()*+,-./:;<=>?@[\\]^_`{|}~’'`\n"
     ]
    }
   ],
   "source": [
    "import nltk\n",
    "stops = nltk.corpus.stopwords.words('english')\n",
    "\n",
    "from nltk.stem import WordNetLemmatizer\n",
    "lemmatizer = WordNetLemmatizer()\n",
    "\n",
    "import string\n",
    "puncs = string.punctuation\n",
    "#Adding additional punctuations\n",
    "puncs = puncs + \"’'`\" \n",
    "print(puncs)"
   ]
  },
  {
   "cell_type": "code",
   "execution_count": 203,
   "metadata": {},
   "outputs": [],
   "source": [
    "import re\n",
    "def text_clean(text):\n",
    "    text = re.sub(r\"what's\", \"what is \", text)\n",
    "    text = re.sub(r\"\\'s\", \" \", text)\n",
    "    text = re.sub(r\"\\'ve\", \" have \", text)\n",
    "    text = re.sub(r\"n't\", \" not \", text)\n",
    "    text = re.sub(r\"i'm\", \"i am \", text)\n",
    "    text = re.sub(r\"\\'re\", \" are \", text)\n",
    "    text = re.sub(r\"\\'d\", \" would \", text)\n",
    "    text = re.sub(r\"\\'ll\", \" will \", text)\n",
    "    text = re.sub(r\"\\'ll\", \" will \", text)\n",
    "    text = re.sub('[%s]'%re.escape(puncs), ' ', text)\n",
    "    #convert u.s or us  to 'United States'\n",
    "    text = re.sub(r\" U.S. \", \" united states \", text)\n",
    "    text = re.sub(r\" US \", \" united states \", text)\n",
    "    text = re.sub(r\" USI \", \" united states india \", text)\n",
    "    text = re.sub(r\" +\",\" \", text)\n",
    "    #Removing additional characters that captured during import\n",
    "    text = re.sub(\"[\\x97]\",\"'\", text)\n",
    "    text = re.sub(\"[\\x96]\",\"'\", text)\n",
    "    text = re.sub(\"[\\x95]\",\"'\", text)\n",
    "    text = re.sub(\"[\\x94]\",\"'\", text)\n",
    "    text = re.sub(\"[\\x93]\",\"'\", text)\n",
    "    text = re.sub(\"[\\x92]\",\"'\", text)\n",
    "    text = re.sub(\"[\\x91]\",\"'\", text)\n",
    "    return text"
   ]
  },
  {
   "cell_type": "markdown",
   "metadata": {},
   "source": [
    "Data Preprocessing and Cleaning(2)\n",
    "----------------------------\n",
    "* Tokenizing the words\n",
    "* Lemmatization\n",
    "* removing numeric digits and punctuations"
   ]
  },
  {
   "cell_type": "code",
   "execution_count": 204,
   "metadata": {},
   "outputs": [],
   "source": [
    "def text_preprocess(text):\n",
    "    #tokenizing\n",
    "    tokens = word_tokenize(text)\n",
    "    #converting to lower case and lemmatization\n",
    "    #tokens = [lemmatizer.lemmatize(word.lower()) for word in tokens]\n",
    "    tokens = [word.lower() for word in tokens]\n",
    "    filtered_tokens = []\n",
    "    #Remove anything but alphabets - numbers, punctuations etc\n",
    "    for token in tokens:\n",
    "        if re.search('[a-zA-Z]', token):\n",
    "            filtered_tokens.append(token)\n",
    "    #return list of lists for embedding vectors\n",
    "    return filtered_tokens"
   ]
  },
  {
   "cell_type": "markdown",
   "metadata": {},
   "source": [
    "#### Applying 'Cleaning' and 'Preprocessing' methods on the dataset"
   ]
  },
  {
   "cell_type": "code",
   "execution_count": 205,
   "metadata": {},
   "outputs": [],
   "source": [
    "#Clean the questions dataset\n",
    "data['question'] = data['question'].apply(lambda x:text_clean(x))"
   ]
  },
  {
   "cell_type": "code",
   "execution_count": 206,
   "metadata": {},
   "outputs": [],
   "source": [
    "#Preprocess the questions\n",
    "data['question'] = data['question'].apply(lambda x:text_preprocess(x))"
   ]
  },
  {
   "cell_type": "code",
   "execution_count": 182,
   "metadata": {},
   "outputs": [],
   "source": [
    "#Preprocess the questions except the ones with greeting \n",
    "#for i in range(len(data)):\n",
    "#    if data['intent'].iloc[i] != 'greeting':\n",
    "#        data['question2'].iloc[i] = text_preprocess(str(\" \".join(data['question2'].iloc[i])))"
   ]
  },
  {
   "cell_type": "markdown",
   "metadata": {},
   "source": [
    "Pre-trained word and phrase vectors from gensim models\n",
    "-----------------------------------------\n",
    "* Getting GoogleNews-vectors-negative - A Pre-trained word and phrase vectors. 'Questions'in our dataset are converted to vectors by averaging the vectors of individual words in each question.\n",
    "\n",
    "* This can be loaded using 'gensim.models'"
   ]
  },
  {
   "cell_type": "code",
   "execution_count": 150,
   "metadata": {},
   "outputs": [],
   "source": [
    "import gensim.models\n",
    "#Changing the directory to get to the embeddings \n",
    "os.chdir('C:/Users/akadali/Desktop/Deep_NLP/MLG_Capstone_ChatBot/ChatBot_GoogleW2V/Word Embeddings')\n",
    "model = gensim.models.KeyedVectors.load_word2vec_format('GoogleNews-vectors-negative300.bin',binary=True)"
   ]
  },
  {
   "cell_type": "markdown",
   "metadata": {},
   "source": [
    "Below function creates the 300-dimension vectors for each question (for all tokens that are present in the Google New pre-trained Word2Vec models)"
   ]
  },
  {
   "cell_type": "code",
   "execution_count": 207,
   "metadata": {},
   "outputs": [],
   "source": [
    "# Creating a feature vector by averaging embeddings for all words in a sentence\n",
    "def embedding_feats(list_of_tokens):\n",
    "    DIMENSION = 300\n",
    "    zero_vector = np.zeros(DIMENSION)\n",
    "    #feats = []\n",
    "    feat_for_this = zero_vector\n",
    "    count_for_this = 0\n",
    "    for token in list_of_tokens:\n",
    "        if token in model:\n",
    "            feat_for_this += model[token]\n",
    "            count_for_this+= 1\n",
    "    feats = feat_for_this/count_for_this\n",
    "    return feats"
   ]
  },
  {
   "cell_type": "markdown",
   "metadata": {},
   "source": [
    "Creating vectors for all questions in the faq dataset"
   ]
  },
  {
   "cell_type": "code",
   "execution_count": 208,
   "metadata": {},
   "outputs": [],
   "source": [
    "#np.seterr(divide='ignore', invalid='ignore')\n",
    "question_vectors = [embedding_feats(x) for x in data['question']]"
   ]
  },
  {
   "cell_type": "markdown",
   "metadata": {},
   "source": [
    "# Estalishing connection to the 'Talent referral payout' database in SQL\n",
    "* Establish connection with the TRP databases (both payout and referral databases) in SQL Workbench\n",
    "* Write functions to retrieve the data based on user request."
   ]
  },
  {
   "cell_type": "code",
   "execution_count": 124,
   "metadata": {},
   "outputs": [],
   "source": [
    "import mysql.connector\n",
    "mydb = mysql.connector.connect(host=\"localhost\", \n",
    "                               user=\"root\", \n",
    "                               passwd=\"root\",\n",
    "                               auth_plugin = 'mysql_native_password',\n",
    "                               database = \"talent_referral_payout\")"
   ]
  },
  {
   "cell_type": "code",
   "execution_count": 125,
   "metadata": {},
   "outputs": [],
   "source": [
    "mycursor = mydb.cursor(buffered = True)"
   ]
  },
  {
   "cell_type": "code",
   "execution_count": 126,
   "metadata": {},
   "outputs": [],
   "source": [
    "#Definition to obtain te referral bonus payout history of a referring professional\n",
    "\n",
    "def search_pay_db(emp_id):\n",
    "    emp_id = str(emp_id)\n",
    "    #print(type(emp_id))\n",
    "    query = \"SELECT referral_name,amount,date_of_origin FROM trp_payment_report_sample WHERE emp_num = \"+ emp_id\n",
    "    mycursor.execute(query)\n",
    "    return mycursor.fetchone()"
   ]
  },
  {
   "cell_type": "code",
   "execution_count": 127,
   "metadata": {},
   "outputs": [],
   "source": [
    "#Definition to obtain the status of referrals submitted by the referring professional\n",
    "\n",
    "def search_status_db(rms_id):\n",
    "    rms_id = str(rms_id)\n",
    "    #print(type(emp_id))\n",
    "    query = \"SELECT candidate_name,requisition_no,current_status,reference_date FROM trp_status WHERE candidate_id = \" + rms_id\n",
    "    mycursor.execute(query)\n",
    "    return mycursor.fetchone()"
   ]
  },
  {
   "cell_type": "markdown",
   "metadata": {},
   "source": [
    "* This block of code would convert the user's question to a 300 dimensional vector and calculates the cosine_similarity against all question vectors in the FAQ dataset. \n",
    "* Obtains the correspoding answer of the best matched question"
   ]
  },
  {
   "cell_type": "code",
   "execution_count": 128,
   "metadata": {},
   "outputs": [],
   "source": [
    "from sklearn.metrics.pairwise import cosine_similarity\n",
    "\n",
    "def get_response(t):\n",
    "    #print(query)\n",
    "    while True:\n",
    "        user_input = input(\"You:\")\n",
    "        if len(user_input) == 0:\n",
    "            print(\"Bot: Can you please provide more information\")\n",
    "        elif user_input.lower() == 'referral_bonus':\n",
    "            print(\"Enter your personnel number to fetch the payment details\")\n",
    "            emp_no = input(\"Emp. ID:\")\n",
    "            emp_no = str(emp_no)\n",
    "            ans = search_pay_db(emp_no)\n",
    "            print(\"Bot: Your bonus payout details are below (in the last 6 months)\")\n",
    "            print(\"Bot:\", ans)\n",
    "            print(\"Bot: Let me know if I can help you with anything else\")\n",
    "        elif user_input.lower() == 'referral_status':\n",
    "            print(\"Bot: Enter your referral's RMS/Taleo ID to fetch the status info.\")\n",
    "            email = input(\"ID:\")\n",
    "            email = str(email)\n",
    "            ans = search_status_db(email)\n",
    "            print(\"Bot: Below are the list of referrals you submitted in the last 6 months\")\n",
    "            print(\"Bot:\", ans)\n",
    "            print(\"Bot: Let me know if I can help you with anything else\")\n",
    "        elif user_input.lower() == 'quit':\n",
    "            break\n",
    "        else:\n",
    "            q = text_clean(user_input)\n",
    "            q = text_preprocess(user_input)\n",
    "            q_vec = [embedding_feats(q)]\n",
    "            sims = cosine_similarity(q_vec, question_vectors)\n",
    "            max_s = sims.max()\n",
    "            if max_s < t:\n",
    "                response = \"Hmm..sorry, I don't quite understand that, can you please rephrase your question\"\n",
    "            else:\n",
    "                max_i = np.argmax(sims)\n",
    "                response = data.answer[max_i]\n",
    "            print(\"Bot:\", response)"
   ]
  },
  {
   "cell_type": "code",
   "execution_count": 129,
   "metadata": {},
   "outputs": [
    {
     "data": {
      "text/plain": [
       "'\\ndef chat():\\n    print(\"Specify the confidence level\")\\n    level = input(\"Confidence:\")\\n    conf = int(level)/100\\n    print(\"Hi There....I\\'m Talent Referral Bot and I\\'m here to help you with referral inquiries\\n[type \\'quit\\' to stop]\")\\n    print(\"***TIP: PLEASE ENTER \\n 1.\\'referral_status\\' -> to check your referral status \\n 2.\\'referral_bonus\\' -> to check your bonus payout status and \\n 3.\\'program\\' -> for program related inquiry\")\\n    while True:\\n        user_input = input(\"You:\")\\n        if user_input.lower() == \\'quit\\':\\n            break\\n        if user_input == \\'\\':\\n            print(\"Bot: Can you please provide more information\")\\n        elif user_input.lower() == \\'referral_bonus\\':\\n            print(\"can you please provide your personnel employee number\")\\n            emp_no = input(\"Emp. ID:\")\\n            emp_no = str(emp_no)\\n            ans = search_pay_db(emp_no)\\n            print(\"Bot: Please find your bonus payout details below (in the last 6 months)\")\\n            print(\"Bot:\", ans)\\n        elif user_input.lower() == \\'referral_status\\':\\n            print(\"can you please provide your referral\\'s personal email adress to fetch the status info.\")\\n            email = input(\"Email:\")\\n            email = str(email)\\n            ans = search_status_db(email)\\n            print(\"Bot: Please find the status of your referrals(in the last 6 months)\")\\n            print(\"Bot:\",ans)\\n        elif user_input.lower() == \\'program\\':\\n            print(\"Bot: Please enter your question here\\n (type \\'quit\\' to stop)\")\\n            while True:\\n                user_input = input(\"You:\")\\n                if user_input.lower() == \\'quit\\':\\n                    break\\n                ans = get_response(user_input, conf)\\n                print(\"Bot:\", ans)\\n'"
      ]
     },
     "execution_count": 129,
     "metadata": {},
     "output_type": "execute_result"
    }
   ],
   "source": [
    "\"\"\"\n",
    "def chat():\n",
    "    print(\"Specify the confidence level\")\n",
    "    level = input(\"Confidence:\")\n",
    "    conf = int(level)/100\n",
    "    print(\"Hi There....I'm Talent Referral Bot and I'm here to help you with referral inquiries\\n[type 'quit' to stop]\")\n",
    "    print(\"***TIP: PLEASE ENTER \\n 1.'referral_status' -> to check your referral status \\n 2.'referral_bonus' -> to check your bonus payout status and \\n 3.'program' -> for program related inquiry\")\n",
    "    while True:\n",
    "        user_input = input(\"You:\")\n",
    "        if user_input.lower() == 'quit':\n",
    "            break\n",
    "        if user_input == '':\n",
    "            print(\"Bot: Can you please provide more information\")\n",
    "        elif user_input.lower() == 'referral_bonus':\n",
    "            print(\"can you please provide your personnel employee number\")\n",
    "            emp_no = input(\"Emp. ID:\")\n",
    "            emp_no = str(emp_no)\n",
    "            ans = search_pay_db(emp_no)\n",
    "            print(\"Bot: Please find your bonus payout details below (in the last 6 months)\")\n",
    "            print(\"Bot:\", ans)\n",
    "        elif user_input.lower() == 'referral_status':\n",
    "            print(\"can you please provide your referral's personal email adress to fetch the status info.\")\n",
    "            email = input(\"Email:\")\n",
    "            email = str(email)\n",
    "            ans = search_status_db(email)\n",
    "            print(\"Bot: Please find the status of your referrals(in the last 6 months)\")\n",
    "            print(\"Bot:\",ans)\n",
    "        elif user_input.lower() == 'program':\n",
    "            print(\"Bot: Please enter your question here\\n (type 'quit' to stop)\")\n",
    "            while True:\n",
    "                user_input = input(\"You:\")\n",
    "                if user_input.lower() == 'quit':\n",
    "                    break\n",
    "                ans = get_response(user_input, conf)\n",
    "                print(\"Bot:\", ans)\n",
    "\"\"\""
   ]
  },
  {
   "cell_type": "code",
   "execution_count": 130,
   "metadata": {},
   "outputs": [],
   "source": [
    "def chat_test():\n",
    "    print(\"Specify the confidence level\")\n",
    "    level = input(\"Confidence:\")\n",
    "    conf = int(level)/100\n",
    "    print(\"Hi There....I'm Talent Referral Bot and I'm here to help you with referral inquiries\\n[type 'quit' to stop]\")\n",
    "    print(\"***TIP: PLEASE ENTER \\n 1.'referral_status' -> to check your referral status \\n 2.'referral_bonus' -> to check your bonus payout status and \\n 3.'program' -> for program related inquiry\")\n",
    "    ans = get_response(conf)\n",
    "    #print(\"Bot:\", ans)"
   ]
  },
  {
   "cell_type": "code",
   "execution_count": 131,
   "metadata": {},
   "outputs": [
    {
     "name": "stdout",
     "output_type": "stream",
     "text": [
      "Specify the confidence level\n",
      "Confidence:80\n",
      "Hi There....I'm Talent Referral Bot and I'm here to help you with referral inquiries\n",
      "[type 'quit' to stop]\n",
      "***TIP: PLEASE ENTER \n",
      " 1.'referral_status' -> to check your referral status \n",
      " 2.'referral_bonus' -> to check your bonus payout status and \n",
      " 3.'program' -> for program related inquiry\n",
      "You:quit\n"
     ]
    }
   ],
   "source": [
    "chat_test()"
   ]
  },
  {
   "cell_type": "markdown",
   "metadata": {},
   "source": [
    "# Testing with test_data"
   ]
  },
  {
   "cell_type": "code",
   "execution_count": 209,
   "metadata": {},
   "outputs": [],
   "source": [
    "#Testing the Chabot with Test Dataset\n",
    "os.chdir('C:\\\\Users\\\\akadali\\\\Desktop\\\\Deep_NLP\\\\MLG_Capstone_ChatBot\\\\ChatBot_GoogleW2V')\n",
    "\n",
    "#importing test dataset\n",
    "test_data = pd.read_csv(\"chatbot_test.csv\", encoding = 'latin1')"
   ]
  },
  {
   "cell_type": "code",
   "execution_count": 210,
   "metadata": {},
   "outputs": [
    {
     "name": "stdout",
     "output_type": "stream",
     "text": [
      "Accuracy of Google W2v \n",
      " 0.66\n",
      "Average Simailarity score 0.8967927026869852\n"
     ]
    }
   ],
   "source": [
    "#test_data.drop(['Unnamed: 3'], axis = 1, inplace = True)\n",
    "def test_response(q, vecs = question_vectors):\n",
    "    q = text_clean(q)\n",
    "    q = text_preprocess(q)\n",
    "    q_vec = [embedding_feats(q)]\n",
    "    sims = cosine_similarity(q_vec, vecs)\n",
    "    max_s = sims.max()\n",
    "    max_i = np.argmax(sims)\n",
    "    train_q = \" \".join(data.question[max_i])\n",
    "    return max_s, data.answer[max_i], train_q, data.intent[max_i]\n",
    "\n",
    "test_data['bot_response'] = test_data['test_question'].apply(lambda x:test_response(x)[1])\n",
    "test_data['train_question'] = test_data['test_question'].apply(lambda x:test_response(x)[2])\n",
    "test_data['sim_score'] = test_data['test_question'].apply(lambda x:test_response(x)[0])\n",
    "test_data['train_intent'] = test_data['test_question'].apply(lambda x:test_response(x)[3])\n",
    "\n",
    "test_data['valid'] = test_data['intent'] == test_data['train_intent']\n",
    "\n",
    "print(\"Accuracy of Google W2v \\n\",(test_data.valid.sum()/len(test_data)).round(2))\n",
    "print(\"Average Simailarity score\",test_data.sim_score.mean())\n",
    "\n",
    "##First Test result with stop words\n",
    "# Accuracy - 31%\n",
    "# Mean Similarity score - 0.74\n",
    "\n",
    "##Second Test Result - with stop words\n",
    "# Accuracy - 48%\n",
    "# Mean Similarity score - 0.89\n",
    "\n",
    "##Third Test Result - without stop words\n",
    "# Accuracy - 2%\n",
    "# Mean Similarity score - 0.40\n",
    "\n",
    "##Fourth Test Result - with stop words and without lemmatization\n",
    "# Accuracy - 54%\n",
    "# Mean Similarity score - 0.89\n",
    "\n",
    "\n",
    "##Fifth Test Result - with stop words, without lemmatization, Intent standardization\n",
    "# Accuracy - 66%\n",
    "# Mean Similarity score - 0.89\n",
    "\n"
   ]
  },
  {
   "cell_type": "code",
   "execution_count": null,
   "metadata": {},
   "outputs": [],
   "source": []
  },
  {
   "cell_type": "code",
   "execution_count": null,
   "metadata": {},
   "outputs": [],
   "source": [
    "##First Test result with stop words\n",
    "# Accuracy - 31%\n",
    "# Mean Similarity score - 0.88\n",
    "\n",
    "\n",
    "##Second Test Result - with stop words\n",
    "# Accuracy - 48%\n",
    "# Mean Similarity score - 0.89\n",
    "\n",
    "\n",
    "##Third Test Result - without stop words\n",
    "# Accuracy - 2%\n",
    "# Mean Similarity score - 0.40\n",
    "\n",
    "##Fourth Test Result - with stop words and without lemmatization\n",
    "# Accuracy - 54%\n",
    "# Mean Similarity score - 0.89\n",
    "\n",
    "##Fifth Test Result - with stop words, without lemmatization, Intent standardization\n",
    "# Accuracy - 66%\n",
    "# Mean Similarity score - 0.89\n"
   ]
  },
  {
   "cell_type": "code",
   "execution_count": 211,
   "metadata": {},
   "outputs": [
    {
     "data": {
      "image/png": "[encoded data removed]",
      "text/plain": [
       "<Figure size 432x288 with 1 Axes>"
      ]
     },
     "metadata": {
      "needs_background": "light"
     },
     "output_type": "display_data"
    }
   ],
   "source": [
    "import matplotlib.pyplot as plt\n",
    "plt.title(\"Similarity score distribution of test questions (with stop words, without lemmatization)\")\n",
    "plt.xlabel(\"Cosine Similarity\")\n",
    "plt.ylabel(\"Question count\")\n",
    "plt.hist(test_data.sim_score)\n",
    "plt.show()"
   ]
  },
  {
   "cell_type": "code",
   "execution_count": null,
   "metadata": {},
   "outputs": [],
   "source": [
    "#question = \"Can you advise me on when I will receive it and the amount.\"\n",
    "#test_response(question)"
   ]
  },
  {
   "cell_type": "code",
   "execution_count": 155,
   "metadata": {},
   "outputs": [],
   "source": [
    "test_data.to_csv(\"C:\\\\Users\\\\akadali\\\\Desktop\\\\Deep_NLP\\\\MLG_Capstone_ChatBot\\\\ChatBot_GoogleW2V\\\\test_results_w2v.csv\",\n",
    "                 index = False, header = True)"
   ]
  },
  {
   "cell_type": "code",
   "execution_count": null,
   "metadata": {},
   "outputs": [],
   "source": [
    "#Sample RMS IDs for chatbot testing of referral status\n",
    "\"\"\"\n",
    "24211419\n",
    "18327009\n",
    "24482992\n",
    "21996054\n",
    "22425736\n",
    "24426987\n",
    "17783534\n",
    "24601097\n",
    "23736632\n",
    "24698456\n",
    "24623156\n",
    "21705392\n",
    "\"\"\"\n",
    "#Sample Employee IDs for chatbot testing bonus status\n",
    "\"\"\"\n",
    "213408\n",
    "239660\n",
    "249058\n",
    "250194\n",
    "260943\n",
    "271637\n",
    "274346\n",
    "282822\n",
    "284183\n",
    "284315\n",
    "284754\n",
    "285695\n",
    "290560\n",
    "\"\"\""
   ]
  },
  {
   "cell_type": "markdown",
   "metadata": {},
   "source": [
    "# Methods for Chatbot GUI response "
   ]
  },
  {
   "cell_type": "code",
   "execution_count": 472,
   "metadata": {},
   "outputs": [],
   "source": [
    "def gui_response(user_input):\n",
    "    user_input = str(user_input)\n",
    "    if len(user_input) == 0:\n",
    "        response = \"Looks like you have not asked any question. Please feel free to ask me anything related to referral program.\"\n",
    "    else:\n",
    "        user_input = text_clean(user_input)\n",
    "        user_input = text_preprocess(user_input)\n",
    "        q_vec = [embedding_feats(user_input)]\n",
    "        sims = cosine_similarity(q_vec, question_vectors)\n",
    "        max_s = sims.max()\n",
    "        if max_s < 0.6:\n",
    "            response = \"I'm sorry, I don't think I understood that correctly, can you please rephrase your question and try again.Feel free to email ustalentreferralprogram@deloitte.com to reach referral team, if I’m not able to solve your problem right now\"\n",
    "        else:\n",
    "            max_i = np.argmax(sims)\n",
    "            response = data.answer[max_i]\n",
    "    return response"
   ]
  },
  {
   "cell_type": "code",
   "execution_count": 473,
   "metadata": {},
   "outputs": [],
   "source": [
    "def gui_bonus(emp_id):\n",
    "    emp_id = str(emp_id)\n",
    "    ans = search_pay_db(emp_id) \n",
    "    if ans is not None:\n",
    "        res = \"You were paid $\"+ str(ans[1])+\" for referring \"+str(ans[0])+\" along with \"+str(ans[2])+\" pay period\"\n",
    "    else:\n",
    "        res = \"Sorry, I couldn't find any result with the input provided\" \n",
    "    return res"
   ]
  },
  {
   "cell_type": "code",
   "execution_count": 474,
   "metadata": {},
   "outputs": [],
   "source": [
    "def gui_status(rms_id):\n",
    "    rms_id = str(rms_id)\n",
    "    ans = search_status_db(rms_id)\n",
    "    if ans is not None:\n",
    "        res = \"Your referral \"+str(ans[0])+ \" has been \"+str(ans[2])+\" for requisition with ID:\"+str(ans[1])\n",
    "    else:\n",
    "        res = \"Sorry, I couldn't find any result with the input provided\" \n",
    "    return res"
   ]
  },
  {
   "cell_type": "markdown",
   "metadata": {},
   "source": [
    "# Creating Chatbot GUI using tkinter updated ao 09/16/2020"
   ]
  },
  {
   "cell_type": "code",
   "execution_count": 829,
   "metadata": {},
   "outputs": [],
   "source": [
    "import os\n",
    "os.chdir(\"C:\\\\Users\\\\akadali\\\\Desktop\\\\Deep_NLP\\\\MLG_Capstone_ChatBot\\\\ChatBot_GoogleW2V\")"
   ]
  },
  {
   "cell_type": "code",
   "execution_count": 97,
   "metadata": {},
   "outputs": [],
   "source": [
    "#Importing tkinter\n",
    "import tkinter\n",
    "from tkinter import *"
   ]
  },
  {
   "cell_type": "code",
   "execution_count": 98,
   "metadata": {},
   "outputs": [],
   "source": [
    "#Enabling High DPI in Windows 10\n",
    "try:\n",
    "    from ctypes import windll\n",
    "    windll.shcore.SetProcessDpiAwareness(1)\n",
    "except:\n",
    "    pass"
   ]
  },
  {
   "cell_type": "code",
   "execution_count": 99,
   "metadata": {},
   "outputs": [],
   "source": [
    "def send(*args):\n",
    "    msg = messageWindow.get(\"1.0\",'end-1c')\n",
    "    messageWindow.delete(\"0.0\",END)\n",
    "    if msg == '':\n",
    "        chatWindow.config(state=NORMAL)\n",
    "        chatWindow.insert(END, \"You: \\n\" + msg + '\\n')\n",
    "        chatWindow.config(foreground=\"#3b5998\", font=(\"Helvetica Neue\", 9, 'bold' ))\n",
    "        res = \"Please feel free to ask me anything related to referral program.\"\n",
    "        chatWindow.insert(END, \"Bot: \" + res + '\\n\\n')\n",
    "        chatWindow.config(state=DISABLED)\n",
    "        chatWindow.yview(END)\n",
    "    else: \n",
    "        chatWindow.config(state=NORMAL)\n",
    "        chatWindow.insert(END, \"You: \" + msg + '\\n')\n",
    "        chatWindow.config(foreground=\"#3b5998\", font=(\"Helvetica Neue\", 9, 'bold' ))\n",
    "        res = gui_response(msg)\n",
    "        chatWindow.insert(END, \"Bot: \" + res + '\\n\\n')\n",
    "        chatWindow.config(state=DISABLED)\n",
    "        chatWindow.yview(END)"
   ]
  },
  {
   "cell_type": "code",
   "execution_count": 100,
   "metadata": {},
   "outputs": [],
   "source": [
    "def bonus():\n",
    "    pers = messageWindow.get(\"1.0\",'end-1c')\n",
    "    messageWindow.delete(\"0.0\",END)\n",
    "    if pers == '':\n",
    "        chatWindow.config(state=NORMAL)\n",
    "        #chatWindow.insert(END, \"You: \" + msg + '\\n')\n",
    "        chatWindow.config(foreground=\"#3b5998\", font=(\"Helvetica Neue\", 9, 'bold' ))\n",
    "        res = \"Please enter your Personal Emp.ID and click on 'Bonus History' again\"\n",
    "        chatWindow.insert(END, \"Bot: \" + res + '\\n\\n')\n",
    "        chatWindow.config(state=DISABLED)\n",
    "        chatWindow.yview(END)\n",
    "    else:\n",
    "        chatWindow.config(state=NORMAL)\n",
    "        chatWindow.insert(END, \"Your Emp ID: \" + pers + '\\n\\n')\n",
    "        chatWindow.config(foreground=\"#3b5998\", font=(\"Helvetica Neue\", 9, 'bold' ))\n",
    "        res = gui_bonus(pers)\n",
    "        chatWindow.insert(END, \"Bot: \" + res + '\\n\\n')\n",
    "        chatWindow.config(state=DISABLED)\n",
    "        chatWindow.yview(END)"
   ]
  },
  {
   "cell_type": "code",
   "execution_count": 101,
   "metadata": {},
   "outputs": [],
   "source": [
    "def status():\n",
    "    rms_id = messageWindow.get(\"1.0\",'end-1c')\n",
    "    messageWindow.delete(\"0.0\",END)\n",
    "    if rms_id == '':\n",
    "        chatWindow.config(state=NORMAL)\n",
    "        #chatWindow.insert(END, \"You: \" + msg + '\\n')\n",
    "        chatWindow.config(foreground=\"#3b5998\", font=(\"Helvetica Neue\", 9, 'bold' ))\n",
    "        res = \"Please enter your referral's RMS.ID and click on 'Referral Status' again\"\n",
    "        chatWindow.insert(END, \"Bot: \" + res + '\\n\\n')\n",
    "        chatWindow.config(state=DISABLED)\n",
    "        chatWindow.yview(END)\n",
    "    else:\n",
    "        chatWindow.config(state=NORMAL)\n",
    "        chatWindow.insert(END, \"Candidate RMS ID: \" + rms_id + '\\n\\n')\n",
    "        chatWindow.config(foreground=\"#3b5998\", font=(\"Helvetica Neue\", 9, 'bold' ))\n",
    "        res = gui_status(rms_id)\n",
    "        chatWindow.insert(END, \"Bot: \" + res + '\\n\\n')\n",
    "        chatWindow.config(state=DISABLED)\n",
    "        chatWindow.yview(END)"
   ]
  },
  {
   "cell_type": "code",
   "execution_count": 102,
   "metadata": {},
   "outputs": [],
   "source": [
    "def quick_help():\n",
    "    chatWindow.config(state=NORMAL)\n",
    "    chatWindow.config(foreground=\"#3b5998\", font=(\"Helvetica Neue\", 9, 'bold'))\n",
    "    res = \"Hi there! Here are a few options for your quick help \\n ----------------------------------------------------------------------------------------- \\n -> Internship Referrals                                    - Type 'Intern'  \\n ----------------------------------------------------------------------------------------- \\n -> Cannot upload Resume                               - Type 'resume'   \\n ----------------------------------------------------------------------------------------- \\n -> Cannot access referral page                       - Type 'technical'\\n ----------------------------------------------------------------------------------------- \\n -> Position not found/No 'refer a friend' link - Type 'job'     \\n----------------------------------------------------------------------------------------- \\n-> Need 'Referral submission' link                   - Type 'link'     \\n----------------------------------------------------------------------------------------- \\n-> Bonus not received                                       - Type 'Bonus'    \\n----------------------------------------------------------------------------------------- \\n-> 'Client' Referrals                                            - Type 'client'   \\n ----------------------------------------------------------------------------------------- \\n Bot: Have a different query??..please feel free to type your question here\"\n",
    "    chatWindow.insert(END, \"Bot: \" + res + '\\n\\n')\n",
    "    chatWindow.config(state=DISABLED)\n",
    "    chatWindow.yview(END)"
   ]
  },
  {
   "cell_type": "code",
   "execution_count": 103,
   "metadata": {},
   "outputs": [
    {
     "data": {
      "text/plain": [
       "''"
      ]
     },
     "execution_count": 103,
     "metadata": {},
     "output_type": "execute_result"
    }
   ],
   "source": [
    "root = Tk()\n",
    "root.title(\"TRP_ChatBot BETA\")\n",
    "root.geometry(\"600x700\")\n",
    "root.resizable(width = FALSE, height = FALSE)"
   ]
  },
  {
   "cell_type": "code",
   "execution_count": 104,
   "metadata": {},
   "outputs": [],
   "source": [
    "#Message header of the chatbot\n",
    "\n",
    "message = \"Referral Program ChatBot\"\n",
    "msg1 = tkinter.Message(root, text = message)\n",
    "msg1.config(bg=\"#3b5998\", fg=\"snow\", font=('Helvetica Neue', 14, 'bold'), justify = RIGHT , width = \"700\")\n",
    "msg1.place(x=0, y=0, height = 32, width = 600)"
   ]
  },
  {
   "cell_type": "code",
   "execution_count": 105,
   "metadata": {},
   "outputs": [],
   "source": [
    "message = \"- Get your referral inquiries answered here -\"\n",
    "msg1 = tkinter.Message(root, text = message)\n",
    "msg1.config(bg=\"#3b5998\", fg=\"snow\", font=('Helvetica Neue', 8, 'italic'), justify = CENTER , width = \"700\")\n",
    "msg1.place(x=0, y=32, height = 18, width = 600)"
   ]
  },
  {
   "cell_type": "code",
   "execution_count": 106,
   "metadata": {},
   "outputs": [],
   "source": [
    "#Create Chat Window\n",
    "\n",
    "chatWindow = Text(root, bd=1, bg=\"grey93\",  width=\"50\", height=\"8\", font=(\"Helvetica Neue\", 12), foreground=\"grey7\")\n",
    "#message3 = \"Hello There....what can I help you with today?\"\n",
    "#msg3 = tkinter.Message(chatWindow, text = message3)\n",
    "#photo = PhotoImage(file='./ipad_image.png')\n",
    "#chatWindow.image_create(END, image=photo)\n",
    "#chatWindow.tag_config(root, background=\"yellow\")\n",
    "chatWindow.place(x=0,y=50, height=500, width=585)"
   ]
  },
  {
   "cell_type": "code",
   "execution_count": 107,
   "metadata": {},
   "outputs": [],
   "source": [
    "#Bind scrollbar to Chat window\n",
    "\n",
    "scrollbar = Scrollbar(root, command=chatWindow.yview, cursor=\"clock\")\n",
    "scrollbar.place(x= 585,y = 50, height=500)\n",
    "chatWindow['yscrollcommand'] = scrollbar.set"
   ]
  },
  {
   "cell_type": "code",
   "execution_count": 108,
   "metadata": {},
   "outputs": [],
   "source": [
    "#Create Buttons\n",
    "\n",
    "#login_btn = PhotoImage(file = 'login.png')\n",
    "\n",
    "Button1= Button(root, text = \"Enter >\",  width=\"12\", height=5, bd=0, bg=\"#4267B2\", activebackground=\"#dfe3ee\", \n",
    "                foreground='#ffffff',font=(\"Helvetica Neue\", 12,'bold'), command = send, borderwidth = 3)\n",
    "Button1.place(x=500, y=572, height=128, width = 100)\n",
    "\n",
    "\n",
    "Button4= Button(root, text=\"Quick help\",width=\"12\", height=5, bd=0, bg=\"#4267B2\", \n",
    "                activebackground=\"#dfe3ee\", foreground='#ffffff',font=(\"Helvetica Neue\", 10,'bold'), \n",
    "                borderwidth = 2, command = quick_help)\n",
    "Button4.place(x=0, y=522, height=30, width = 200)\n",
    "\n",
    "\n",
    "Button2= Button(root, text=\"Referral status\", width=\"12\", height=5, bd=0, bg=\"#4267B2\", \n",
    "                activebackground=\"#dfe3ee\", foreground='#ffffff',font=(\"Helvetica Neue\", 10,'bold'), \n",
    "                borderwidth = 2, command = status)\n",
    "Button2.place(x=400, y=522, height=30, width = 200)\n",
    "\n",
    "\n",
    "Button3= Button(root, text=\"My bonus history\", width=\"12\", height=5, bd=0, bg=\"#4267B2\", \n",
    "                activebackground=\"#dfe3ee\", foreground='#ffffff',font=(\"Helvetica Neue\", 10, 'bold'), \n",
    "                borderwidth = 2, command = bonus)\n",
    "Button3.place(x=200, y=522, height=30, width = 200)"
   ]
  },
  {
   "cell_type": "code",
   "execution_count": 109,
   "metadata": {},
   "outputs": [],
   "source": [
    "#Message header for the message window\n",
    "\n",
    "message2 = \"Enter your questions below...\"\n",
    "msg2 = tkinter.Message(root, text = message2)\n",
    "msg2.config(bg=\"#8b9dc3\", fg=\"snow\", font=('Calibri', 9, 'italic'), justify = LEFT, width = \"366\")\n",
    "msg2.place(x=0, y= 552, height= 20, width = 600)"
   ]
  },
  {
   "cell_type": "code",
   "execution_count": 110,
   "metadata": {},
   "outputs": [],
   "source": [
    "#Create Message Window\n",
    "\n",
    "messageWindow = Text(root, bd=0, bg=\"grey99\",width=\"30\", height=\"4\", font=(\"Helvetica Neue\", 10), foreground=\"grey7\")\n",
    "#messageWindow.insert(END, \"Please enter your queries here...\")\n",
    "#messageWindow.delete(\"0.0\",END)\n",
    "messageWindow.place(x=7, y=579, height=113, width=486)"
   ]
  },
  {
   "cell_type": "code",
   "execution_count": 111,
   "metadata": {},
   "outputs": [
    {
     "data": {
      "text/plain": [
       "'2325802185416send'"
      ]
     },
     "execution_count": 111,
     "metadata": {},
     "output_type": "execute_result"
    }
   ],
   "source": [
    "#Assigning shortcuts and key-bidings to the buttons\n",
    "\n",
    "root.bind(\"<Return>\",send)\n",
    "root.bind(\"<KP_Enter>\",send)"
   ]
  },
  {
   "cell_type": "code",
   "execution_count": 112,
   "metadata": {},
   "outputs": [],
   "source": [
    "root.mainloop()"
   ]
  }
 ],
 "metadata": {
  "kernelspec": {
   "display_name": "Python 3",
   "language": "python",
   "name": "python3"
  },
  "language_info": {
   "codemirror_mode": {
    "name": "ipython",
    "version": 3
   },
   "file_extension": ".py",
   "mimetype": "text/x-python",
   "name": "python",
   "nbconvert_exporter": "python",
   "pygments_lexer": "ipython3",
   "version": "3.7.4"
  }
 },
 "nbformat": 4,
 "nbformat_minor": 2
}
