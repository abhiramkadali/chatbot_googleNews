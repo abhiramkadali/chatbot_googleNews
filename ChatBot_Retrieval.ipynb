{
 "cells": [
  {
   "cell_type": "code",
   "execution_count": 2,
   "metadata": {},
   "outputs": [],
   "source": [
    "from datetime import datetime\n",
    "import mysql.connector"
   ]
  },
  {
   "cell_type": "code",
   "execution_count": 3,
   "metadata": {},
   "outputs": [],
   "source": [
    "mydb = mysql.connector.connect(host=\"localhost\", \n",
    "                               user=\"root\", \n",
    "                               passwd=\"root\",\n",
    "                               auth_plugin = 'mysql_native_password',\n",
    "                               database = \"talent_referral_payout\")"
   ]
  },
  {
   "cell_type": "code",
   "execution_count": 5,
   "metadata": {},
   "outputs": [],
   "source": [
    "mycursor = mydb.cursor()\n",
    "#mycursor.execute(\"CREATE DATABASE testdatabase\")"
   ]
  },
  {
   "cell_type": "code",
   "execution_count": 6,
   "metadata": {},
   "outputs": [],
   "source": [
    "Q1 = \"SELECT DISTINCT cost_center FROM trp_payment_report_sample\""
   ]
  },
  {
   "cell_type": "code",
   "execution_count": 7,
   "metadata": {},
   "outputs": [],
   "source": [
    "mycursor.execute(Q1)"
   ]
  },
  {
   "cell_type": "code",
   "execution_count": 8,
   "metadata": {},
   "outputs": [
    {
     "name": "stdout",
     "output_type": "stream",
     "text": [
      "(180009236,)\n",
      "(180002098,)\n",
      "(180002097,)\n",
      "(180002099,)\n",
      "(180008731,)\n",
      "(110043853,)\n",
      "(180004383,)\n",
      "(180004787,)\n",
      "(180043300,)\n",
      "(180006560,)\n",
      "(180008772,)\n",
      "(180043000,)\n"
     ]
    }
   ],
   "source": [
    "for x in mycursor:\n",
    "    print(x)"
   ]
  },
  {
   "cell_type": "code",
   "execution_count": 9,
   "metadata": {},
   "outputs": [],
   "source": [
    "Q2 = \"SELECT referral_name,rms_id FROM trp_payment_report_sample WHERE cost_center=180004787\""
   ]
  },
  {
   "cell_type": "code",
   "execution_count": 10,
   "metadata": {},
   "outputs": [],
   "source": [
    "mycursor.execute(Q2)"
   ]
  },
  {
   "cell_type": "code",
   "execution_count": 11,
   "metadata": {},
   "outputs": [
    {
     "name": "stdout",
     "output_type": "stream",
     "text": [
      "('Horne Edward', 22084994)\n",
      "('Kaitlin Zinkand ', 7749363)\n",
      "('Nguyen Linda', 14326759)\n",
      "('Gibbs Kevin', 22063678)\n",
      "('Alex Chun ', 21774962)\n",
      "('Christiansen Hannah', 22282340)\n",
      "('Cole Danielle', 22218364)\n",
      "('Cearley Madison', 22222711)\n",
      "('Jagneaux Anna', 22200550)\n",
      "('Ramos Kaylin', 22199097)\n",
      "('Jones Brionna ', 22288085)\n",
      "('Caitlin Weaver ', 22276846)\n",
      "('Amous Nasser', 22242151)\n",
      "('Gabriel A. Ruiz', 19593714)\n"
     ]
    }
   ],
   "source": [
    "for x in mycursor:\n",
    "    print(x)"
   ]
  },
  {
   "cell_type": "code",
   "execution_count": 32,
   "metadata": {},
   "outputs": [
    {
     "name": "stdout",
     "output_type": "stream",
     "text": [
      "Please enter your employee number\n",
      "250194\n"
     ]
    }
   ],
   "source": [
    "print(\"Please enter your employee number\")\n",
    "user_input = input()"
   ]
  },
  {
   "cell_type": "code",
   "execution_count": 13,
   "metadata": {},
   "outputs": [
    {
     "name": "stdout",
     "output_type": "stream",
     "text": [
      "250194\n"
     ]
    }
   ],
   "source": [
    "print(user_input)"
   ]
  },
  {
   "cell_type": "code",
   "execution_count": 46,
   "metadata": {},
   "outputs": [
    {
     "data": {
      "text/plain": [
       "str"
      ]
     },
     "execution_count": 46,
     "metadata": {},
     "output_type": "execute_result"
    }
   ],
   "source": [
    "type(user_input)"
   ]
  },
  {
   "cell_type": "code",
   "execution_count": 33,
   "metadata": {},
   "outputs": [],
   "source": [
    "Q3 = \"SELECT referral_name,amount,date_of_origin FROM trp_payment_report_sample WHERE emp_num = \"+ user_input"
   ]
  },
  {
   "cell_type": "code",
   "execution_count": 34,
   "metadata": {},
   "outputs": [
    {
     "name": "stdout",
     "output_type": "stream",
     "text": [
      "SELECT referral_name,amount,date_of_origin FROM trp_payment_report_sample WHERE emp_num = 250194\n"
     ]
    }
   ],
   "source": [
    "print(Q3)"
   ]
  },
  {
   "cell_type": "code",
   "execution_count": 42,
   "metadata": {},
   "outputs": [],
   "source": [
    "mycursor.execute(Q3)"
   ]
  },
  {
   "cell_type": "code",
   "execution_count": 36,
   "metadata": {},
   "outputs": [
    {
     "name": "stdout",
     "output_type": "stream",
     "text": [
      "('Blair Katelyn', 2000, '6/15/2018')\n"
     ]
    }
   ],
   "source": [
    "for x in mycursor:\n",
    "    print(x)"
   ]
  },
  {
   "cell_type": "code",
   "execution_count": 43,
   "metadata": {},
   "outputs": [],
   "source": [
    "myresult = mycursor.fetchone()"
   ]
  },
  {
   "cell_type": "code",
   "execution_count": 44,
   "metadata": {},
   "outputs": [
    {
     "name": "stdout",
     "output_type": "stream",
     "text": [
      "('Blair Katelyn', 2000, '6/15/2018')\n"
     ]
    }
   ],
   "source": [
    "print(myresult)"
   ]
  },
  {
   "cell_type": "code",
   "execution_count": 45,
   "metadata": {},
   "outputs": [
    {
     "data": {
      "text/plain": [
       "tuple"
      ]
     },
     "execution_count": 45,
     "metadata": {},
     "output_type": "execute_result"
    }
   ],
   "source": [
    "type(myresult)"
   ]
  },
  {
   "cell_type": "code",
   "execution_count": 70,
   "metadata": {},
   "outputs": [],
   "source": [
    "mycursor.execute(\"INSERT INTO Test (name, created, gender) VALUES(%s,%s,%s)\", (\"Tim\", datetime.now(), \"M\"))\n",
    "mydb.commit()"
   ]
  },
  {
   "cell_type": "code",
   "execution_count": 71,
   "metadata": {},
   "outputs": [],
   "source": [
    "mycursor.execute(\"DESCRIBE Test\")"
   ]
  },
  {
   "cell_type": "code",
   "execution_count": 72,
   "metadata": {},
   "outputs": [
    {
     "name": "stdout",
     "output_type": "stream",
     "text": [
      "('name', b'varchar(50)', 'NO', bytearray(b''), None, '')\n",
      "('created', b'datetime', 'NO', bytearray(b''), None, '')\n",
      "('gender', b\"enum('M','F','O')\", 'NO', bytearray(b''), None, '')\n",
      "('ID', b'int', 'NO', bytearray(b'PRI'), None, 'auto_increment')\n"
     ]
    }
   ],
   "source": [
    "for x in mycursor:\n",
    "    print(x)"
   ]
  },
  {
   "cell_type": "code",
   "execution_count": 73,
   "metadata": {},
   "outputs": [],
   "source": [
    "mycursor.execute(\"INSERT INTO Test (name, created, gender) VALUES(%s,%s,%s)\", (\"Joe\", datetime.now(), \"F\"))\n",
    "mydb.commit()"
   ]
  },
  {
   "cell_type": "code",
   "execution_count": 82,
   "metadata": {},
   "outputs": [],
   "source": [
    "mycursor.execute(\"INSERT INTO Test (name, created, gender) VALUES(%s,%s,%s)\", (\"KADALI\", datetime.now(), \"M\"))\n",
    "mydb.commit()"
   ]
  },
  {
   "cell_type": "code",
   "execution_count": 83,
   "metadata": {},
   "outputs": [],
   "source": [
    "mycursor.execute(\"INSERT INTO Test (name, created, gender) VALUES(%s,%s,%s)\", (\"PRANI\", datetime.now(), \"F\"))\n",
    "mydb.commit()"
   ]
  },
  {
   "cell_type": "code",
   "execution_count": 86,
   "metadata": {},
   "outputs": [],
   "source": [
    "mycursor.execute(\"DESCRIBE Test\")"
   ]
  },
  {
   "cell_type": "code",
   "execution_count": 94,
   "metadata": {},
   "outputs": [],
   "source": [
    "mycursor.execute(\"ALTER TABLE Test CHANGE name first_name VARCHAR(50)\")"
   ]
  },
  {
   "cell_type": "code",
   "execution_count": 95,
   "metadata": {},
   "outputs": [],
   "source": [
    "mycursor.execute(\"DESCRIBE Test\")"
   ]
  },
  {
   "cell_type": "code",
   "execution_count": 96,
   "metadata": {},
   "outputs": [
    {
     "name": "stdout",
     "output_type": "stream",
     "text": [
      "('first_name', b'varchar(50)', 'YES', bytearray(b''), None, '')\n",
      "('created', b'datetime', 'NO', bytearray(b''), None, '')\n",
      "('gender', b\"enum('M','F','O')\", 'NO', bytearray(b''), None, '')\n",
      "('ID', b'int', 'NO', bytearray(b'PRI'), None, 'auto_increment')\n",
      "('food', b'varchar(50)', 'NO', bytearray(b''), None, '')\n"
     ]
    }
   ],
   "source": [
    "for x in mycursor:\n",
    "    print(x)"
   ]
  },
  {
   "cell_type": "code",
   "execution_count": 84,
   "metadata": {},
   "outputs": [],
   "source": [
    "mycursor.execute(\"DESCRIBE Person\")"
   ]
  },
  {
   "cell_type": "code",
   "execution_count": 85,
   "metadata": {},
   "outputs": [
    {
     "name": "stdout",
     "output_type": "stream",
     "text": [
      "('name', b'varchar(50)', 'YES', bytearray(b''), None, '')\n",
      "('age', b'smallint unsigned', 'YES', bytearray(b''), None, '')\n",
      "('personID', b'int', 'NO', bytearray(b'PRI'), None, 'auto_increment')\n"
     ]
    }
   ],
   "source": [
    "for x in mycursor:\n",
    "    print(x)"
   ]
  },
  {
   "cell_type": "code",
   "execution_count": 88,
   "metadata": {},
   "outputs": [],
   "source": [
    "mycursor.execute(\"SELECT id, name FROM Test WHERE gender = 'M' ORDER BY ID DESC\")"
   ]
  },
  {
   "cell_type": "code",
   "execution_count": 89,
   "metadata": {},
   "outputs": [
    {
     "name": "stdout",
     "output_type": "stream",
     "text": [
      "(4, 'KADALI')\n",
      "(2, 'Tim')\n",
      "(1, 'Tim')\n"
     ]
    }
   ],
   "source": [
    "for x in mycursor:\n",
    "    print(x)"
   ]
  },
  {
   "cell_type": "code",
   "execution_count": 90,
   "metadata": {},
   "outputs": [],
   "source": [
    "mycursor.execute(\"ALTER TABLE Test ADD COLUMN food varchar(50) NOT NULL\")"
   ]
  },
  {
   "cell_type": "code",
   "execution_count": 91,
   "metadata": {},
   "outputs": [],
   "source": [
    "mycursor.execute(\"DESCRIBE Test\")"
   ]
  },
  {
   "cell_type": "code",
   "execution_count": 93,
   "metadata": {},
   "outputs": [
    {
     "name": "stdout",
     "output_type": "stream",
     "text": [
      "('created', b'datetime', 'NO', bytearray(b''), None, '')\n",
      "('gender', b\"enum('M','F','O')\", 'NO', bytearray(b''), None, '')\n",
      "('ID', b'int', 'NO', bytearray(b'PRI'), None, 'auto_increment')\n",
      "('food', b'varchar(50)', 'NO', bytearray(b''), None, '')\n"
     ]
    }
   ],
   "source": [
    "for x in mycursor:\n",
    "    print(x)"
   ]
  },
  {
   "cell_type": "code",
   "execution_count": 42,
   "metadata": {},
   "outputs": [],
   "source": [
    "mycursor.execute(\"INSERT INTO Person (name, age) VALUES(%s, %s)\", (\"Tim\", 19))\n",
    "mydb.commit()"
   ]
  },
  {
   "cell_type": "code",
   "execution_count": 45,
   "metadata": {},
   "outputs": [],
   "source": [
    "mycursor.execute(\"INSERT INTO Person (name, age) VALUES(%s, %s)\", (\"Joe\", 29))\n",
    "mydb.commit()"
   ]
  },
  {
   "cell_type": "code",
   "execution_count": 46,
   "metadata": {},
   "outputs": [],
   "source": [
    "mycursor.execute(\"SELECT * FROM Person\")"
   ]
  },
  {
   "cell_type": "code",
   "execution_count": 47,
   "metadata": {},
   "outputs": [
    {
     "name": "stdout",
     "output_type": "stream",
     "text": [
      "('Tim', 19, 1)\n",
      "('Joe', 29, 2)\n"
     ]
    }
   ],
   "source": [
    "for x in mycursor:\n",
    "    print(x)"
   ]
  },
  {
   "cell_type": "code",
   "execution_count": null,
   "metadata": {},
   "outputs": [],
   "source": []
  }
 ],
 "metadata": {
  "kernelspec": {
   "display_name": "Python 3",
   "language": "python",
   "name": "python3"
  },
  "language_info": {
   "codemirror_mode": {
    "name": "ipython",
    "version": 3
   },
   "file_extension": ".py",
   "mimetype": "text/x-python",
   "name": "python",
   "nbconvert_exporter": "python",
   "pygments_lexer": "ipython3",
   "version": "3.7.4"
  }
 },
 "nbformat": 4,
 "nbformat_minor": 2
}
