{
 "cells": [
  {
   "cell_type": "code",
   "execution_count": 182,
   "metadata": {},
   "outputs": [],
   "source": [
    "#from absl import logging\n",
    "import tensorflow as tf\n",
    "import tensorflow_hub as hub\n",
    "import matplotlib.pyplot as plt\n",
    "import numpy as np\n",
    "import os\n",
    "import pandas as pd\n",
    "import re\n",
    "import seaborn as sns\n",
    "from sklearn.metrics.pairwise import cosine_similarity\n",
    "sns.set()"
   ]
  },
  {
   "cell_type": "markdown",
   "metadata": {},
   "source": [
    "# Overview\n",
    "The Universal Sentence Encoder encodes text into high-dimensional vectors that can be used for text classification, semantic similarity, clustering and other natural language tasks.\n",
    "\n",
    "The model is trained and optimized for greater-than-word length text, such as sentences, phrases or short paragraphs. It is trained on a variety of data sources and a variety of tasks with the aim of dynamically accommodating a wide variety of natural language understanding tasks. The input is variable length English text and the output is a 512 dimensional vector. We apply this model to the STS benchmark for semantic similarity, and the results can be seen in the example notebook made available. The universal-sentence-encoder model is trained with a deep averaging network (DAN) encoder.\n",
    "\n",
    "To learn more about text embeddings, refer to the TensorFlow Embeddings documentation. Our encoder differs from word level embedding models in that we train on a number of natural language prediction tasks that require modeling the meaning of word sequences rather than just individual words. Details are available in the paper \"Universal Sentence Encoder\" "
   ]
  },
  {
   "cell_type": "code",
   "execution_count": 183,
   "metadata": {},
   "outputs": [],
   "source": [
    "import time\n",
    "start_time = time.time()"
   ]
  },
  {
   "cell_type": "code",
   "execution_count": 184,
   "metadata": {},
   "outputs": [],
   "source": [
    "#Loading model from USE DAN (Deep Averaging Network)\n",
    "module_url = \"https://tfhub.dev/google/universal-sentence-encoder/4\" \n",
    "model = hub.load(module_url)\n",
    "#print (\"module %s loaded\" % module_url)"
   ]
  },
  {
   "cell_type": "code",
   "execution_count": 185,
   "metadata": {},
   "outputs": [],
   "source": [
    "os.chdir('C:/Users/akadali/Desktop/Deep_NLP/MLG_Capstone_ChatBot/ChatBot_GoogleW2V')\n",
    "data = pd.read_csv('chatbot_train.csv', encoding = 'latin1')\n",
    "data = data[['question', 'answer', 'intent']]"
   ]
  },
  {
   "cell_type": "code",
   "execution_count": 186,
   "metadata": {},
   "outputs": [
    {
     "name": "stdout",
     "output_type": "stream",
     "text": [
      "!\"#$%&'()*+,-./:;<=>?@[\\]^_`{|}~’'`\n"
     ]
    }
   ],
   "source": [
    "import nltk\n",
    "from nltk.tokenize import word_tokenize\n",
    "stops = nltk.corpus.stopwords.words('english')\n",
    "\n",
    "from nltk.stem import WordNetLemmatizer\n",
    "lemmatizer = WordNetLemmatizer()\n",
    "\n",
    "import string\n",
    "puncs = string.punctuation\n",
    "#Adding additional punctuations\n",
    "puncs = puncs + \"’'`\" \n",
    "print(puncs)"
   ]
  },
  {
   "cell_type": "code",
   "execution_count": 187,
   "metadata": {},
   "outputs": [
    {
     "name": "stdout",
     "output_type": "stream",
     "text": [
      "['i', 'me', 'my', 'myself', 'we', 'our', 'ours', 'ourselves', 'you', \"you're\", \"you've\", \"you'll\", \"you'd\", 'your', 'yours', 'yourself', 'yourselves', 'he', 'him', 'his', 'himself', 'she', \"she's\", 'her', 'hers', 'herself', 'it', \"it's\", 'its', 'itself', 'they', 'them', 'their', 'theirs', 'themselves', 'what', 'which', 'who', 'whom', 'this', 'that', \"that'll\", 'these', 'those', 'am', 'is', 'are', 'was', 'were', 'be', 'been', 'being', 'have', 'has', 'had', 'having', 'do', 'does', 'did', 'doing', 'a', 'an', 'the', 'and', 'but', 'if', 'or', 'because', 'as', 'until', 'while', 'of', 'at', 'by', 'for', 'with', 'about', 'against', 'between', 'into', 'through', 'during', 'before', 'after', 'above', 'below', 'to', 'from', 'up', 'down', 'in', 'out', 'on', 'off', 'over', 'under', 'again', 'further', 'then', 'once', 'here', 'there', 'when', 'where', 'why', 'how', 'all', 'any', 'both', 'each', 'few', 'more', 'most', 'other', 'some', 'such', 'no', 'nor', 'not', 'only', 'own', 'same', 'so', 'than', 'too', 'very', 's', 't', 'can', 'will', 'just', 'don', \"don't\", 'should', \"should've\", 'now', 'd', 'll', 'm', 'o', 're', 've', 'y', 'ain', 'aren', \"aren't\", 'couldn', \"couldn't\", 'didn', \"didn't\", 'doesn', \"doesn't\", 'hadn', \"hadn't\", 'hasn', \"hasn't\", 'haven', \"haven't\", 'isn', \"isn't\", 'ma', 'mightn', \"mightn't\", 'mustn', \"mustn't\", 'needn', \"needn't\", 'shan', \"shan't\", 'shouldn', \"shouldn't\", 'wasn', \"wasn't\", 'weren', \"weren't\", 'won', \"won't\", 'wouldn', \"wouldn't\"]\n"
     ]
    }
   ],
   "source": [
    "print(stops)"
   ]
  },
  {
   "cell_type": "markdown",
   "metadata": {},
   "source": [
    "# Data Cleaning\n",
    "-----\n",
    "\n",
    "* This dataset has a lot of contractions, hence all of them need to be removed/replaced within the dataset. The below function replaces the contractions with corresponding word pairs.\n",
    "\n",
    "* Also, there are quite a few abbreviations such as U.S., US, USI to be substituted with their expanded forms\n",
    "\n",
    "* removing additional spaces, if there are any"
   ]
  },
  {
   "cell_type": "markdown",
   "metadata": {},
   "source": [
    "* Tokenizing the words\n",
    "* Lemmatization\n",
    "* removing numeric digits and punctuations"
   ]
  },
  {
   "cell_type": "code",
   "execution_count": 188,
   "metadata": {},
   "outputs": [],
   "source": [
    "import re\n",
    "def text_clean(text):\n",
    "    text = re.sub(r\"what's\", \"what is \", text)\n",
    "    text = re.sub(r\"\\'s\", \" \", text)\n",
    "    text = re.sub(r\"\\'ve\", \" have \", text)\n",
    "    text = re.sub(r\"n't\", \" not \", text)\n",
    "    text = re.sub(r\"i'm\", \"i am \", text)\n",
    "    text = re.sub(r\"\\'re\", \" are \", text)\n",
    "    text = re.sub(r\"\\'d\", \" would \", text)\n",
    "    text = re.sub(r\"\\'ll\", \" will \", text)\n",
    "    text = re.sub(r\"\\'ll\", \" will \", text)\n",
    "    text = re.sub('[%s]'%re.escape(puncs), ' ', text)\n",
    "    #convert u.s or us  to 'United States'\n",
    "    text = re.sub(r\" U.S. \", \" united states \", text)\n",
    "    text = re.sub(r\" US \", \" united states \", text)\n",
    "    text = re.sub(r\" USI \", \" united states india \", text)\n",
    "    text = re.sub(r\" +\",\" \", text)\n",
    "    #Removing additional characters that captured during import\n",
    "    text = re.sub(\"[\\x97]\",\"'\", text)\n",
    "    text = re.sub(\"[\\x96]\",\"'\", text)\n",
    "    text = re.sub(\"[\\x95]\",\"'\", text)\n",
    "    text = re.sub(\"[\\x94]\",\"'\", text)\n",
    "    text = re.sub(\"[\\x93]\",\"'\", text)\n",
    "    text = re.sub(\"[\\x92]\",\"'\", text)\n",
    "    text = re.sub(\"[\\x91]\",\"'\", text)\n",
    "    return text"
   ]
  },
  {
   "cell_type": "code",
   "execution_count": 189,
   "metadata": {},
   "outputs": [],
   "source": [
    "def text_preprocess(text):\n",
    "    #tokenizing\n",
    "    tokens = word_tokenize(text)\n",
    "    #converting to lower case and lemmatization\n",
    "    #tokens = [lemmatizer.lemmatize(word.lower()) for word in tokens]\n",
    "    tokens = [word.lower() for word in tokens if word not in stops]\n",
    "    filtered_tokens = []\n",
    "    #Remove anything but alphabets - numbers, punctuations etc\n",
    "    for token in tokens:\n",
    "        if re.search('[a-zA-Z]', token):\n",
    "            filtered_tokens.append(token)\n",
    "    #return list of lists for embedding vectors\n",
    "    return \" \".join(filtered_tokens)"
   ]
  },
  {
   "cell_type": "code",
   "execution_count": 190,
   "metadata": {},
   "outputs": [],
   "source": [
    "#Clean the questions dataset\n",
    "data['question'] = data['question'].apply(lambda x: text_clean(x))"
   ]
  },
  {
   "cell_type": "code",
   "execution_count": 191,
   "metadata": {},
   "outputs": [],
   "source": [
    "#Preprocess the questions\n",
    "data['question'] = data['question'].apply(lambda x:text_preprocess(x))\n",
    "#data['question'] = data['question'].apply(lambda x: \" \".join(x))"
   ]
  },
  {
   "cell_type": "markdown",
   "metadata": {},
   "source": [
    "### Creating sentence embeddings using pretrained TF USE (universal-sentence-encoder)"
   ]
  },
  {
   "cell_type": "code",
   "execution_count": 192,
   "metadata": {},
   "outputs": [],
   "source": [
    "#Method to embed inputs\n",
    "def embed(input):\n",
    "    return model(input)"
   ]
  },
  {
   "cell_type": "code",
   "execution_count": 193,
   "metadata": {},
   "outputs": [],
   "source": [
    "#np.seterr(divide='ignore', invalid='ignore')\n",
    "question_vectors = data['question'].apply(lambda x:embed([x]))"
   ]
  },
  {
   "cell_type": "markdown",
   "metadata": {},
   "source": [
    "## Establishing connection to the 'referral' database"
   ]
  },
  {
   "cell_type": "code",
   "execution_count": 194,
   "metadata": {},
   "outputs": [],
   "source": [
    "import mysql.connector\n",
    "mydb = mysql.connector.connect(host=\"localhost\", \n",
    "                               user=\"root\", \n",
    "                               passwd=\"root\",\n",
    "                               auth_plugin = 'mysql_native_password',\n",
    "                               database = \"talent_referral_payout\")"
   ]
  },
  {
   "cell_type": "code",
   "execution_count": 195,
   "metadata": {},
   "outputs": [],
   "source": [
    "mycursor = mydb.cursor(buffered = True)"
   ]
  },
  {
   "cell_type": "code",
   "execution_count": 196,
   "metadata": {},
   "outputs": [],
   "source": [
    "#Definition to obtain te referral bonus payout history of a referring professional\n",
    "\n",
    "def search_pay_db(emp_id):\n",
    "    emp_id = str(emp_id)\n",
    "    #print(type(emp_id))\n",
    "    query = \"SELECT referral_name,amount,date_of_origin FROM trp_payment_report_sample WHERE emp_num = \"+ emp_id\n",
    "    mycursor.execute(query)\n",
    "    return mycursor.fetchone()"
   ]
  },
  {
   "cell_type": "code",
   "execution_count": 197,
   "metadata": {},
   "outputs": [],
   "source": [
    "#Definition to obtain the status of referrals submitted by the referring professional\n",
    "\n",
    "def search_status_db(rms_id):\n",
    "    rms_id = str(rms_id)\n",
    "    #print(type(emp_id))\n",
    "    query = \"SELECT candidate_name,requisition_no,current_status,reference_date FROM trp_status WHERE candidate_id = \" + rms_id\n",
    "    mycursor.execute(query)\n",
    "    return mycursor.fetchone()"
   ]
  },
  {
   "cell_type": "code",
   "execution_count": 198,
   "metadata": {},
   "outputs": [],
   "source": [
    "def get_response(t):\n",
    "    #print(query)\n",
    "    while True:\n",
    "        user_input = input(\"You:\")\n",
    "        if len(user_input) == 0:\n",
    "            print(\"Bot: Can you please provide more information\")\n",
    "        elif user_input.lower() == '_bonus_':\n",
    "            print(\"Enter your personnel number to fetch the payment details\")\n",
    "            emp_no = input(\"Emp. ID:\")\n",
    "            emp_no = str(emp_no)\n",
    "            ans = search_pay_db(emp_no)\n",
    "            #print(\"Bot: Your bonus payout details are below (in the last 6 months)\")\n",
    "            if ans is not None:\n",
    "                print(\"Bot: You were paid $\"+ str(ans[1])+\" for referring \"+str(ans[0])+\" along with \"+str(ans[2])+\" pay period\")\n",
    "                print(\"     Let me know if I can help you with anything else\")\n",
    "            else:\n",
    "                print(\"Bot: Sorry...I do not have your referral info. in my database. Please contact TRP Team\")\n",
    "        elif user_input.lower() == '_status_':\n",
    "            print(\"Bot: Enter your referral's RMS/Taleo ID to fetch the status info.\")\n",
    "            email = input(\"ID:\")\n",
    "            email = str(email)\n",
    "            ans = search_status_db(email)\n",
    "            #print(\"Bot: Below are the list of referrals you submitted in the last 6 months\")\n",
    "            if ans is not None:\n",
    "                print(\"Bot: Your referral \"+str(ans[0])+ \" has been \"+str(ans[2])+\" for requisition with ID:\"+str(ans[1]))\n",
    "                print(\"     Let me know if I can help you with anything else\")\n",
    "            else:\n",
    "                print(\"Bot: Sorry...I do not have your referral info. in my database. Please contact TRP Team\")\n",
    "        elif user_input.lower() == 'quit':\n",
    "            break\n",
    "        else:\n",
    "            #q = text_clean(user_input)\n",
    "            #q = text_preprocess(user_input)\n",
    "            q = user_input\n",
    "            q_vec = embed([q])\n",
    "            size_ = len(question_vectors)\n",
    "            sims = np.zeros(size_)\n",
    "            for i in range(size_):\n",
    "                sims[i] = cosine_similarity(q_vec, question_vectors[i])\n",
    "            max_s = sims.max()\n",
    "            if max_s < t:\n",
    "                response = \"Hmm..sorry, I don't quite understand that, can you please rephrase your question\"\n",
    "            else:\n",
    "                max_i = np.argmax(sims)\n",
    "                response = data.answer[max_i]\n",
    "            print(\"Bot:\", response)"
   ]
  },
  {
   "cell_type": "code",
   "execution_count": 199,
   "metadata": {},
   "outputs": [],
   "source": [
    "def chat_test():\n",
    "    print(\"Specify the confidence level\")\n",
    "    level = input(\"Confidence:\")\n",
    "    conf = int(level)/100\n",
    "    print(\"Hi There....I'm Talent Referral Bot and I'm here to help you with referral inquiries\\n[type 'quit' to stop]\")\n",
    "    print(\"***TIP: PLEASE ENTER \\n 1.'_status_' -> to check your referral status \\n 2.'_bonus_' -> to check your bonus payout status \\n 3.Else, enter your question\")\n",
    "    ans = get_response(conf)\n",
    "    #print(\"Bot:\", ans)"
   ]
  },
  {
   "cell_type": "code",
   "execution_count": 200,
   "metadata": {},
   "outputs": [],
   "source": [
    "#Invoke this function only if you want to test the bot in here, else don't\n",
    "#chat_test()"
   ]
  },
  {
   "cell_type": "markdown",
   "metadata": {},
   "source": [
    "## Testing the Program"
   ]
  },
  {
   "cell_type": "markdown",
   "metadata": {},
   "source": [
    "#### **** Can be skipped ****"
   ]
  },
  {
   "cell_type": "code",
   "execution_count": 201,
   "metadata": {},
   "outputs": [],
   "source": [
    "#Testing the Chabot with Test Dataset\n",
    "os.chdir('C:\\\\Users\\\\akadali\\\\Desktop\\\\Deep_NLP\\\\MLG_Capstone_ChatBot\\\\ChatBot_GoogleW2V')\n",
    "\n",
    "#importing test dataset\n",
    "test_data = pd.read_csv(\"chatbot_test.csv\", encoding = 'latin1')\n",
    "#test_data.drop(['Unnamed: 3'], axis = 1, inplace = True)\n",
    "size = len(question_vectors)\n",
    "sims = np.zeros(size)\n",
    "def test_response(q, vecs = question_vectors):\n",
    "    q = text_clean(q)\n",
    "    q = text_preprocess(q)\n",
    "    q_vec = embed([q])\n",
    "    for i in range(size):\n",
    "        sims[i] = cosine_similarity(q_vec, question_vectors[i])\n",
    "    max_s = sims.max()\n",
    "    max_i = np.argmax(sims)\n",
    "    return max_s, data.answer[max_i], data.question[max_i], data.intent[max_i]\n",
    "\n",
    "test_data['bot_response'] = test_data['test_question'].apply(lambda x:test_response(x)[1])\n",
    "test_data['train_question'] = test_data['test_question'].apply(lambda x:test_response(x)[2])\n",
    "test_data['sim_score'] = test_data['test_question'].apply(lambda x:test_response(x)[0])\n",
    "test_data['train_intent'] = test_data['test_question'].apply(lambda x:test_response(x)[3])\n",
    "test_data['valid'] = test_data['bot_response'] == test_data['test_answer']"
   ]
  },
  {
   "cell_type": "code",
   "execution_count": 202,
   "metadata": {},
   "outputs": [
    {
     "name": "stdout",
     "output_type": "stream",
     "text": [
      "Accuracy of TF USE DAN \n",
      " 0.538\n",
      "Average Simailarity score 0.6816942118296102\n",
      "--- 116.12505197525024 seconds ---\n"
     ]
    }
   ],
   "source": [
    "print(\"Accuracy of TF USE DAN \\n\",(test_data.valid.sum()/len(test_data)).round(3))\n",
    "print(\"Average Simailarity score\",test_data.sim_score.mean())\n",
    "print(\"--- %s seconds ---\" % (time.time() - start_time))"
   ]
  },
  {
   "cell_type": "markdown",
   "metadata": {},
   "source": [
    "#### Accuracy Readings"
   ]
  },
  {
   "cell_type": "code",
   "execution_count": null,
   "metadata": {},
   "outputs": [],
   "source": [
    "##First Test result with stop words, with lemmatization\n",
    "# Test_Accuracy - 34%\n",
    "# Mean Similarity score - 0.64\n",
    "\n",
    "##Second Test Result - with stop words, without lemmatization and \n",
    "# Test_Accuracy - 56%\n",
    "# Mean Similarity score - 0.69\n",
    "\n",
    "##Third Test Result - without stop words, wihtout lemmatization\n",
    "# Test_Accuracy - 53%\n",
    "# Mean Similarity score - 0.63 \n",
    "\n",
    "##Fourth Test Result - without stop words, with lemmatization\n",
    "# Test_Accuracy - 54%\n",
    "# Mean Similarity score - 0.68 \n"
   ]
  },
  {
   "cell_type": "code",
   "execution_count": null,
   "metadata": {},
   "outputs": [],
   "source": [
    "test_data.to_csv(\"C:\\\\Users\\\\akadali\\\\Desktop\\\\Deep_NLP\\\\MLG_Capstone_ChatBot\\\\ChatBot_GoogleW2V\\\\test_results_dan.csv\",\n",
    "                 index = False, header = True)"
   ]
  },
  {
   "cell_type": "markdown",
   "metadata": {},
   "source": [
    "# ChatBot GUI"
   ]
  },
  {
   "cell_type": "markdown",
   "metadata": {},
   "source": [
    "### Methods for Chatbot GUI response "
   ]
  },
  {
   "cell_type": "code",
   "execution_count": 54,
   "metadata": {},
   "outputs": [],
   "source": [
    "def gui_response(user_input):\n",
    "    user_input = str(user_input)\n",
    "    if len(user_input) == 0:\n",
    "        response = \"Looks like you have not asked any question. Please feel free to ask me anything related to referral program.\"\n",
    "    else:\n",
    "        user_input = text_clean(user_input)\n",
    "        user_input = text_preprocess(user_input)\n",
    "        q_vec = embed([user_input])\n",
    "        size_ = len(question_vectors)\n",
    "        sims = np.zeros(size_)\n",
    "        for i in range(size_):\n",
    "            sims[i] = cosine_similarity(q_vec, question_vectors[i])\n",
    "        max_s = sims.max()\n",
    "        if max_s < 0.6: #Change the threshold if needed\n",
    "            response = \"I'm sorry, I don't think I understood that correctly, can you please rephrase your question and try again.Feel free to email ustalentreferralprogram@deloitte.com to reach referral team, if I’m not able to solve your problem right now\"\n",
    "        else:\n",
    "            max_i = np.argmax(sims)\n",
    "            response = data.answer[max_i]\n",
    "    return response"
   ]
  },
  {
   "cell_type": "code",
   "execution_count": 56,
   "metadata": {},
   "outputs": [],
   "source": [
    "def gui_bonus(emp_id):\n",
    "    emp_id = str(emp_id)\n",
    "    ans = search_pay_db(emp_id) \n",
    "    if ans is not None:\n",
    "        res = \"You were paid $\"+ str(ans[1])+\" for referring \"+str(ans[0])+\" along with \"+str(ans[2])+\" pay period\"\n",
    "    else:\n",
    "        res = \"Sorry, I couldn't find any result with the input provided\" \n",
    "    return res"
   ]
  },
  {
   "cell_type": "code",
   "execution_count": 57,
   "metadata": {},
   "outputs": [],
   "source": [
    "def gui_status(rms_id):\n",
    "    rms_id = str(rms_id)\n",
    "    ans = search_status_db(rms_id)\n",
    "    if ans is not None:\n",
    "        res = \"Your referral \"+str(ans[0])+ \" has been \"+str(ans[2])+\" for requisition with ID:\"+str(ans[1])\n",
    "    else:\n",
    "        res = \"Sorry, I couldn't find any result with the input provided\" \n",
    "    return res"
   ]
  },
  {
   "cell_type": "markdown",
   "metadata": {},
   "source": [
    "# Creating Chatbot GUI using tkinter"
   ]
  },
  {
   "cell_type": "code",
   "execution_count": 58,
   "metadata": {},
   "outputs": [],
   "source": [
    "import os\n",
    "os.chdir(\"C:\\\\Users\\\\akadali\\\\Desktop\\\\Deep_NLP\\\\MLG_Capstone_ChatBot\\\\ChatBot_GoogleW2V\")"
   ]
  },
  {
   "cell_type": "code",
   "execution_count": 59,
   "metadata": {},
   "outputs": [],
   "source": [
    "#Importing tkinter\n",
    "import tkinter\n",
    "from tkinter import *"
   ]
  },
  {
   "cell_type": "code",
   "execution_count": 60,
   "metadata": {},
   "outputs": [],
   "source": [
    "#Enabling High DPI in Windows 10\n",
    "try:\n",
    "    from ctypes import windll\n",
    "    windll.shcore.SetProcessDpiAwareness(1)\n",
    "except:\n",
    "    pass"
   ]
  },
  {
   "cell_type": "markdown",
   "metadata": {},
   "source": [
    "### Methods for Buttons"
   ]
  },
  {
   "cell_type": "code",
   "execution_count": 61,
   "metadata": {},
   "outputs": [],
   "source": [
    "def send(*args):\n",
    "    msg = messageWindow.get(\"1.0\",'end-1c')\n",
    "    messageWindow.delete(\"0.0\",END)\n",
    "    if msg == '':\n",
    "        chatWindow.config(state=NORMAL)\n",
    "        chatWindow.insert(END, \"You: \\n\" + msg + '\\n')\n",
    "        chatWindow.config(foreground=\"#3b5998\", font=(\"Helvetica Neue\", 9, 'bold' ))\n",
    "        res = \"Please feel free to ask me anything related to referral program.\"\n",
    "        chatWindow.insert(END, \"Bot: \" + res + '\\n\\n')\n",
    "        chatWindow.config(state=DISABLED)\n",
    "        chatWindow.yview(END)\n",
    "    else: \n",
    "        chatWindow.config(state=NORMAL)\n",
    "        chatWindow.insert(END, \"You: \" + msg + '\\n')\n",
    "        chatWindow.config(foreground=\"#3b5998\", font=(\"Helvetica Neue\", 9, 'bold' ))\n",
    "        res = gui_response(msg)\n",
    "        chatWindow.insert(END, \"Bot: \" + res + '\\n\\n')\n",
    "        chatWindow.config(state=DISABLED)\n",
    "        chatWindow.yview(END)"
   ]
  },
  {
   "cell_type": "code",
   "execution_count": 62,
   "metadata": {},
   "outputs": [],
   "source": [
    "def bonus():\n",
    "    pers = messageWindow.get(\"1.0\",'end-1c')\n",
    "    messageWindow.delete(\"0.0\",END)\n",
    "    if pers == '':\n",
    "        chatWindow.config(state=NORMAL)\n",
    "        #chatWindow.insert(END, \"You: \" + msg + '\\n')\n",
    "        chatWindow.config(foreground=\"#3b5998\", font=(\"Helvetica Neue\", 9, 'bold' ))\n",
    "        res = \"Please enter your Personal Emp.ID and click on 'Bonus History' again\"\n",
    "        chatWindow.insert(END, \"Bot: \" + res + '\\n\\n')\n",
    "        chatWindow.config(state=DISABLED)\n",
    "        chatWindow.yview(END)\n",
    "    else:\n",
    "        chatWindow.config(state=NORMAL)\n",
    "        chatWindow.insert(END, \"Your Emp ID: \" + pers + '\\n\\n')\n",
    "        chatWindow.config(foreground=\"#3b5998\", font=(\"Helvetica Neue\", 9, 'bold' ))\n",
    "        res = gui_bonus(pers)\n",
    "        chatWindow.insert(END, \"Bot: \" + res + '\\n\\n')\n",
    "        chatWindow.config(state=DISABLED)\n",
    "        chatWindow.yview(END)"
   ]
  },
  {
   "cell_type": "code",
   "execution_count": 63,
   "metadata": {},
   "outputs": [],
   "source": [
    "def status():\n",
    "    rms_id = messageWindow.get(\"1.0\",'end-1c')\n",
    "    messageWindow.delete(\"0.0\",END)\n",
    "    if rms_id == '':\n",
    "        chatWindow.config(state=NORMAL)\n",
    "        #chatWindow.insert(END, \"You: \" + msg + '\\n')\n",
    "        chatWindow.config(foreground=\"#3b5998\", font=(\"Helvetica Neue\", 9, 'bold' ))\n",
    "        res = \"Please enter your referral's RMS.ID and click on 'Referral Status' again\"\n",
    "        chatWindow.insert(END, \"Bot: \" + res + '\\n\\n')\n",
    "        chatWindow.config(state=DISABLED)\n",
    "        chatWindow.yview(END)\n",
    "    else:\n",
    "        chatWindow.config(state=NORMAL)\n",
    "        chatWindow.insert(END, \"Candidate RMS ID: \" + rms_id + '\\n\\n')\n",
    "        chatWindow.config(foreground=\"#3b5998\", font=(\"Helvetica Neue\", 9, 'bold' ))\n",
    "        res = gui_status(rms_id)\n",
    "        chatWindow.insert(END, \"Bot: \" + res + '\\n\\n')\n",
    "        chatWindow.config(state=DISABLED)\n",
    "        chatWindow.yview(END)"
   ]
  },
  {
   "cell_type": "code",
   "execution_count": 64,
   "metadata": {},
   "outputs": [],
   "source": [
    "def quick_help():\n",
    "    chatWindow.config(state=NORMAL)\n",
    "    chatWindow.config(foreground=\"#3b5998\", font=(\"Helvetica Neue\", 9, 'bold'))\n",
    "    res = \"Hi there! Here are a few options for your quick help \\n ----------------------------------------------------------------------------------------- \\n -> Internship Referrals                                    - Type 'Intern'  \\n ----------------------------------------------------------------------------------------- \\n -> Cannot upload Resume                               - Type 'resume'   \\n ----------------------------------------------------------------------------------------- \\n -> Cannot access referral page                       - Type 'technical'\\n ----------------------------------------------------------------------------------------- \\n -> Position not found/No 'refer a friend' link - Type 'job'     \\n----------------------------------------------------------------------------------------- \\n-> Need 'Referral submission' link                   - Type 'link'     \\n----------------------------------------------------------------------------------------- \\n-> Bonus not received                                       - Type 'Bonus'    \\n----------------------------------------------------------------------------------------- \\n-> 'Client' Referrals                                            - Type 'client'   \\n ----------------------------------------------------------------------------------------- \\n Bot: Have a different query??..please feel free to type your question here\"\n",
    "    chatWindow.insert(END, \"Bot: \" + res + '\\n\\n')\n",
    "    chatWindow.config(state=DISABLED)\n",
    "    chatWindow.yview(END)"
   ]
  },
  {
   "cell_type": "code",
   "execution_count": 65,
   "metadata": {},
   "outputs": [
    {
     "data": {
      "text/plain": [
       "''"
      ]
     },
     "execution_count": 65,
     "metadata": {},
     "output_type": "execute_result"
    }
   ],
   "source": [
    "#root instance\n",
    "root = Tk()\n",
    "root.title(\"TRP_ChatBot BETA\")\n",
    "root.geometry(\"600x700\")\n",
    "root.resizable(width = FALSE, height = FALSE)"
   ]
  },
  {
   "cell_type": "code",
   "execution_count": 66,
   "metadata": {},
   "outputs": [],
   "source": [
    "#Message header of the chatbot\n",
    "message = \"Referral Program ChatBot\"\n",
    "msg1 = tkinter.Message(root, text = message)\n",
    "msg1.config(bg=\"#3b5998\", fg=\"snow\", font=('Helvetica Neue', 14, 'bold'), justify = RIGHT , width = \"700\")\n",
    "msg1.place(x=0, y=0, height = 32, width = 600)\n",
    "\n",
    "#Message sub-header of the chatbot\n",
    "\n",
    "message = \"- Get your referral inquiries answered here -\"\n",
    "msg1 = tkinter.Message(root, text = message)\n",
    "msg1.config(bg=\"#3b5998\", fg=\"snow\", font=('Helvetica Neue', 8, 'italic'), justify = CENTER , width = \"700\")\n",
    "msg1.place(x=0, y=32, height = 18, width = 600)\n"
   ]
  },
  {
   "cell_type": "code",
   "execution_count": 67,
   "metadata": {},
   "outputs": [],
   "source": [
    "#Create Chat Window\n",
    "\n",
    "chatWindow = Text(root, bd=1, bg=\"grey93\",  width=\"50\", height=\"8\", font=(\"Helvetica Neue\", 12), foreground=\"grey7\")\n",
    "chatWindow.place(x=0,y=50, height=500, width=585)"
   ]
  },
  {
   "cell_type": "code",
   "execution_count": 68,
   "metadata": {},
   "outputs": [],
   "source": [
    "#Bind scrollbar to Chat window\n",
    "\n",
    "scrollbar = Scrollbar(root, command=chatWindow.yview, cursor=\"clock\")\n",
    "scrollbar.place(x= 585,y = 50, height=500)\n",
    "chatWindow['yscrollcommand'] = scrollbar.set"
   ]
  },
  {
   "cell_type": "code",
   "execution_count": 69,
   "metadata": {},
   "outputs": [],
   "source": [
    "#Create Buttons\n",
    "\n",
    "#login_btn = PhotoImage(file = 'login.png')\n",
    "\n",
    "Button1= Button(root, text = \"Enter >\",  width=\"12\", height=5, bd=0, bg=\"#4267B2\", activebackground=\"#dfe3ee\", \n",
    "                foreground='#ffffff',font=(\"Helvetica Neue\", 12,'bold'), command = send, borderwidth = 3)\n",
    "Button1.place(x=500, y=572, height=128, width = 100)\n",
    "\n",
    "\n",
    "Button4= Button(root, text=\"Quick help\",width=\"12\", height=5, bd=0, bg=\"#4267B2\", \n",
    "                activebackground=\"#dfe3ee\", foreground='#ffffff',font=(\"Helvetica Neue\", 10,'bold'), \n",
    "                borderwidth = 2, command = quick_help)\n",
    "Button4.place(x=0, y=522, height=30, width = 200)\n",
    "\n",
    "\n",
    "Button2= Button(root, text=\"Referral status\", width=\"12\", height=5, bd=0, bg=\"#4267B2\", \n",
    "                activebackground=\"#dfe3ee\", foreground='#ffffff',font=(\"Helvetica Neue\", 10,'bold'), \n",
    "                borderwidth = 2, command = status)\n",
    "Button2.place(x=400, y=522, height=30, width = 200)\n",
    "\n",
    "\n",
    "Button3= Button(root, text=\"My bonus history\", width=\"12\", height=5, bd=0, bg=\"#4267B2\", \n",
    "                activebackground=\"#dfe3ee\", foreground='#ffffff',font=(\"Helvetica Neue\", 10, 'bold'), \n",
    "                borderwidth = 2, command = bonus)\n",
    "Button3.place(x=200, y=522, height=30, width = 200)"
   ]
  },
  {
   "cell_type": "code",
   "execution_count": 70,
   "metadata": {},
   "outputs": [],
   "source": [
    "#Message header for the message window\n",
    "\n",
    "message2 = \"Enter your questions below...\"\n",
    "msg2 = tkinter.Message(root, text = message2)\n",
    "msg2.config(bg=\"#8b9dc3\", fg=\"snow\", font=('Calibri', 9, 'italic'), justify = LEFT, width = \"366\")\n",
    "msg2.place(x=0, y= 552, height= 20, width = 600)"
   ]
  },
  {
   "cell_type": "code",
   "execution_count": 71,
   "metadata": {},
   "outputs": [],
   "source": [
    "#Create Message Window\n",
    "\n",
    "messageWindow = Text(root, bd=0, bg=\"grey99\",width=\"30\", height=\"4\", font=(\"Helvetica Neue\", 10), foreground=\"grey7\")\n",
    "#messageWindow.insert(END, \"Please enter your queries here...\")\n",
    "#messageWindow.delete(\"0.0\",END)\n",
    "messageWindow.place(x=7, y=579, height=113, width=486)"
   ]
  },
  {
   "cell_type": "code",
   "execution_count": 72,
   "metadata": {},
   "outputs": [
    {
     "data": {
      "text/plain": [
       "'3045228839880send'"
      ]
     },
     "execution_count": 72,
     "metadata": {},
     "output_type": "execute_result"
    }
   ],
   "source": [
    "#Assigning shortcuts and key-bidings to the buttons\n",
    "\n",
    "root.bind(\"<Return>\",send)\n",
    "root.bind(\"<KP_Enter>\",send)"
   ]
  },
  {
   "cell_type": "code",
   "execution_count": 73,
   "metadata": {},
   "outputs": [],
   "source": [
    "root.mainloop()"
   ]
  },
  {
   "cell_type": "code",
   "execution_count": null,
   "metadata": {},
   "outputs": [],
   "source": [
    "#Sample RMS IDs for chatbot testing of referral status\n",
    "\"\"\"\n",
    "24211419\n",
    "18327009\n",
    "24482992\n",
    "21996054\n",
    "22425736\n",
    "24426987\n",
    "17783534\n",
    "24601097\n",
    "23736632\n",
    "24698456\n",
    "24623156\n",
    "21705392\n",
    "\"\"\"\n",
    "#Sample Employee IDs for chatbot testing bonus status\n",
    "\"\"\"\n",
    "213408\n",
    "239660\n",
    "249058\n",
    "250194\n",
    "260943\n",
    "271637\n",
    "274346\n",
    "282822\n",
    "284183\n",
    "284315\n",
    "284754\n",
    "285695\n",
    "290560\n",
    "\"\"\""
   ]
  }
 ],
 "metadata": {
  "kernelspec": {
   "display_name": "py3-TF2.0",
   "language": "python",
   "name": "py3-tf2.0"
  },
  "language_info": {
   "codemirror_mode": {
    "name": "ipython",
    "version": 3
   },
   "file_extension": ".py",
   "mimetype": "text/x-python",
   "name": "python",
   "nbconvert_exporter": "python",
   "pygments_lexer": "ipython3",
   "version": "3.7.9"
  }
 },
 "nbformat": 4,
 "nbformat_minor": 2
}
